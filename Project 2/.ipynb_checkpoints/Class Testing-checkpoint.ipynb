{
 "cells": [
  {
   "cell_type": "code",
   "execution_count": 137,
   "metadata": {},
   "outputs": [],
   "source": [
    "import numpy as np\n",
    "import pandas as pd\n",
    "import matplotlib.pyplot as plt\n",
    "import sklearn"
   ]
  },
  {
   "cell_type": "code",
   "execution_count": 146,
   "metadata": {},
   "outputs": [],
   "source": [
    "class NN(object):\n",
    "    \n",
    "    def __init__(self, layer_dims, hidden_layers, learning_rate=0.01, \n",
    "                 batch_size = 20, max_epoch=100, verbose=0):\n",
    "        \n",
    "        self.layer_dims = layer_dims\n",
    "        self.hidden_layers = hidden_layers\n",
    "        self.learning_rate = learning_rate\n",
    "        self.batch_size = batch_size\n",
    "        self.max_epoch = max_epoch\n",
    "        self.verbose = verbose\n",
    "        \n",
    "    @staticmethod\n",
    "    def weights_init(layer_dims):\n",
    "        parameters = {}\n",
    "        # L = number of layers, \n",
    "        # The values in the layer_dims is the amount of weights in each of the nodes \n",
    "        L = len(layer_dims)\n",
    "        for l in range(1, L):\n",
    "            parameters['W' + str(l)] = np.random.normal(-1,1,(layer_dims[l], layer_dims[l-1]) )\n",
    "            parameters['b' + str(l)] = np.random.normal(-1,1,(layer_dims[l], 1) )\n",
    "        return parameters\n",
    "    \n",
    "    @staticmethod\n",
    "    def sigmoid(X, derivative=False):\n",
    "        if derivative == False:\n",
    "            out = 1 / (1 + np.exp(-np.array(X)))\n",
    "        elif derivative == True:\n",
    "            s = 1 / (1 + np.exp(-np.array(X)))\n",
    "            out = s*(1-s)\n",
    "        return out\n",
    "\n",
    "    @staticmethod\n",
    "    def relu(X, derivative=False):\n",
    "        leak = 0.1\n",
    "        if derivative == False:\n",
    "            out = np.maximum(0,X)\n",
    "            return out\n",
    "        elif derivative == True:\n",
    "            out = np.ones_like(X)\n",
    "            out[X<0] = 0\n",
    "            return out\n",
    "    \"\"\"\n",
    "    @staticmethod\n",
    "    def relu(X,derivative=False):\n",
    "        leak = 0.01\n",
    "        X = np.array(X,dtype=np.float64)\n",
    "    \n",
    "        if derivative == False:\n",
    "            out = np.where(X<0,leak*X,X)\n",
    "        elif derivative == True:\n",
    "            out = np.ones_like(X,dtype=np.float64)\n",
    "            out[X < 0] = leak\n",
    "        \n",
    "        return out\n",
    "    \"\"\"\n",
    "      \n",
    "    @staticmethod\n",
    "    def linear(X,derivative=False):\n",
    "\n",
    "        X = np.array(X)\n",
    "        if derivative ==  False:\n",
    "            return X\n",
    "        elif derivative == True:\n",
    "            return np.ones_like(X)\n",
    "\n",
    "    @staticmethod\n",
    "    def forward_propagation(X, hidden_layers, parameters):\n",
    "        \n",
    "        caches = []\n",
    "        A = X\n",
    "        L = len(hidden_layers)\n",
    "        \n",
    "        for l, active_function in enumerate(hidden_layers,start=1):\n",
    "            A_l = A  \n",
    "        \n",
    "            # Taking the inputs from the A_l-th layer\n",
    "            # Z is the previous layer times the weights and biases\n",
    "            Z = np.dot(parameters[\"W\" + str(l)], A_l)+parameters[\"b\" + str(l)]\n",
    "            \n",
    "            \n",
    "            # Running through the activaiton function of the given, hidden layer\n",
    "            if active_function == \"sigmoid\":\n",
    "                A = NN.sigmoid(Z)\n",
    "            elif active_function == \"relu\":\n",
    "                A = NN.relu(Z)\n",
    "            elif active_function == \"linear\":\n",
    "                A = NN.linear(Z)\n",
    "            \n",
    "            # Storing the inputs, activation and the parameters into a cache \n",
    "            # to be used in the back propagation\n",
    "            \n",
    "            cache = ((A_l, parameters['W' + str(l)], parameters['b' + str(l)]), Z)\n",
    "            caches.append(cache)    \n",
    "            \n",
    "        return A, caches\n",
    "    \n",
    "    @staticmethod\n",
    "    def compute_cost(Ytilde, Y, parameters):\n",
    "        \n",
    "        # MSE cost function for regression.\n",
    "        # A here is the input  \n",
    "        cost = np.squeeze(0.5*np.sum((Ytilde-Y)**2))\n",
    "        \n",
    "        # For a logistic, the cost/loss function would be cross entropy / log likelihood\n",
    "        \n",
    "        return cost\n",
    "\n",
    "    @staticmethod\n",
    "    def back_propagation(AL, Y, caches, hidden_layers):\n",
    "        \n",
    "        # Initalizing the gradients \n",
    "        grads = {}\n",
    "        L = len(caches) # the number of layers\n",
    "    \n",
    "        m = AL.shape[1]\n",
    "        \n",
    "        # Reshaping the output Y\n",
    "        Y = Y.reshape(AL.shape)\n",
    "    \n",
    "        # The error term (the derivative of the cost function)\n",
    "        dZL = AL - Y\n",
    "        \n",
    "        # Getting the second last cache, which contains \n",
    "        # ( (A_(L-1), W_(L-1), b_(L-1) ), Z_(L-1) )\n",
    "        cache = caches[L-1]\n",
    "        linear_cache, activation_cache = cache\n",
    "        AL, W, b = linear_cache\n",
    "        \n",
    "        # Calculating the gradients for the last layer parameters\n",
    "        grads[\"dW\" + str(L)] = np.dot(dZL,AL.T)   #Error term times output \n",
    "        grads[\"db\" + str(L)] = np.sum(dZL,axis=1,keepdims=True)/m  # Mean of the error term\n",
    "        \n",
    "        # Gradient for the next last layer needed for deeper computation\n",
    "        grads[\"dA\" + str(L-1)] = np.dot(W.T,dZL)\n",
    "    \n",
    "    \n",
    "        # Loop from l=L-1 to l=0\n",
    "        for l in reversed(range(L-1)):\n",
    "            cache = caches[l]\n",
    "            active_function = hidden_layers[l]\n",
    "        \n",
    "            linear_cache, Z = cache\n",
    "            A_prev, W, b = linear_cache\n",
    "        \n",
    "\n",
    "            dA_prev = grads[\"dA\" + str(l + 1)]\n",
    "            \n",
    "            if active_function == \"sigmoid\":\n",
    "                dZ = np.multiply(dA_prev, NN.sigmoid(Z,derivative=True))\n",
    "            elif active_function == \"relu\":\n",
    "                dZ = np.multiply(dA_prev, NN.relu(Z,derivative=True))\n",
    "            elif active_function == \"linear\":\n",
    "                dZ = np.multiply(dA_prev, NN.linear(Z,derivative=True))\n",
    "\n",
    "\n",
    "            grads[\"dA\" + str(l)] = np.dot(W.T,dZ)\n",
    "            grads[\"dW\" + str(l + 1)] = np.dot(dZ,A_prev.T)\n",
    "            grads[\"db\" + str(l + 1)] = np.sum(dZ,axis=1,keepdims=True)   \n",
    "        return grads\n",
    "    \n",
    "    \n",
    "    \n",
    "    @staticmethod\n",
    "    def update_parameters(parameters, grads,learning_rate,iter_no):\n",
    "\n",
    "        L = len(parameters) // 2 # number of layers in the neural network\n",
    "\n",
    "        for l in range(L):\n",
    "            parameters[\"W\" + str(l+1)] = parameters[\"W\" + str(l+1)] - learning_rate*grads[\"dW\" + str(l + 1)]\n",
    "            parameters[\"b\" + str(l+1)] = parameters[\"b\" + str(l+1)] - learning_rate*grads[\"db\" + str(l + 1)]\n",
    "        return parameters\n",
    "    \n",
    "    def fit(self,X,y):\n",
    "        # Initlizing gradient-dictionary and cost log.\n",
    "        self.grads = {}\n",
    "        self.costs = []\n",
    "\n",
    "        \n",
    "        # Initiliazing the weights\n",
    "        if self.verbose == 1:\n",
    "            print('Initiliazing Weights...')\n",
    "        \n",
    "        self.parameters = self.weights_init(self.layer_dims)\n",
    "        \n",
    "        # Creatomg counter for verbosity\n",
    "        self.iter_no = 0\n",
    "        \n",
    "        # Creating randomized index for the batches\n",
    "        M = X.shape[1]\n",
    "        idx = np.arange(0,M)\n",
    "        \n",
    "        if self.verbose == 1:\n",
    "            print('Starting Training...')\n",
    "            \n",
    "        for epoch_no in range(1,self.max_epoch+1):\n",
    "            \n",
    "            # Randomizing the data for each epoch\n",
    "            np.random.shuffle(idx)\n",
    "            X = X[:,idx]\n",
    "            y = y[:,idx]\n",
    "            \n",
    "            for i in range(0,M, self.batch_size):\n",
    "                self.iter_no = self.iter_no + 1\n",
    "                \n",
    "                # Looping through the batches\n",
    "                X_batch = X[:,i:i + self.batch_size]\n",
    "                y_batch = y[:,i:i + self.batch_size]\n",
    "                \n",
    "                # Forward propagation:\n",
    "                AL, cache = self.forward_propagation(X_batch, self.hidden_layers, self.parameters)\n",
    "                \n",
    "                # Cost function\n",
    "                cost = self.compute_cost(AL, y_batch, self.parameters)\n",
    "                self.costs.append(cost)\n",
    "                \n",
    "                # Getting the gradients from the back propagation\n",
    "                grads = self.back_propagation(AL, y_batch, cache,self.hidden_layers)\n",
    "                \n",
    "                # Updating the weights and biases\n",
    "                self.parameters = self.update_parameters(self.parameters,grads,self.learning_rate,\n",
    "                                                                        self.iter_no-1)\n",
    "                \n",
    "                if self.verbose == 1:\n",
    "                    if self.iter_no % (self.max_epoch//10) == 0:\n",
    "                        print(\"Cost after iteration {}: {}\".format(self.iter_no, cost))\n",
    "                \n",
    "        return self\n",
    "    \n",
    "    def predict(self,X):\n",
    "\n",
    "        out, _ = self.forward_propagation(X,self.hidden_layers,self.parameters)\n",
    "        return out\n"
   ]
  },
  {
   "cell_type": "code",
   "execution_count": 250,
   "metadata": {},
   "outputs": [
    {
     "data": {
      "text/plain": [
       "[<matplotlib.lines.Line2D at 0x19d7faa5a90>]"
      ]
     },
     "execution_count": 250,
     "metadata": {},
     "output_type": "execute_result"
    },
    {
     "data": {
      "image/png": "[encoded data removed]",
      "text/plain": [
       "<Figure size 432x288 with 1 Axes>"
      ]
     },
     "metadata": {
      "needs_background": "light"
     },
     "output_type": "display_data"
    }
   ],
   "source": [
    "# Creating synthetic data example\n",
    "data_points = 400\n",
    "X = np.linspace(0,2*np.pi,data_points)\n",
    "y = np.sin(2*X)#+0.1*np.random.normal(0,1,data_points)\n",
    "plt.plot(X, y)"
   ]
  },
  {
   "cell_type": "code",
   "execution_count": 251,
   "metadata": {},
   "outputs": [],
   "source": [
    "from sklearn.model_selection import train_test_split\n",
    "\n",
    "X_train, X_test, y_train, y_test = train_test_split(X,y,test_size=0.2)\n",
    "X_train = X_train.reshape(1,len(X_train))\n",
    "X_test = X_test.reshape(1,len(X_test))\n",
    "y_train = y_train.reshape(1,len(y_train))\n",
    "y_test = y_test.reshape(1,len(y_test))"
   ]
  },
  {
   "cell_type": "code",
   "execution_count": 252,
   "metadata": {},
   "outputs": [],
   "source": [
    "X = X.reshape(1,data_points)\n",
    "y = y.reshape(1,data_points)"
   ]
  },
  {
   "cell_type": "code",
   "execution_count": 274,
   "metadata": {},
   "outputs": [],
   "source": [
    "model = NN(layer_dims=[X_train.shape[0],10,5,1], hidden_layers=['sigmoid','sigmoid','linear'],\n",
    "           batch_size = 30, max_epoch=10000, verbose=0, learning_rate=0.1)"
   ]
  },
  {
   "cell_type": "code",
   "execution_count": 275,
   "metadata": {
    "scrolled": true
   },
   "outputs": [
    {
     "data": {
      "text/plain": [
       "<__main__.NN at 0x19d04c706d8>"
      ]
     },
     "execution_count": 275,
     "metadata": {},
     "output_type": "execute_result"
    }
   ],
   "source": [
    "model.fit(X_train, y_train)"
   ]
  },
  {
   "cell_type": "code",
   "execution_count": 276,
   "metadata": {},
   "outputs": [
    {
     "data": {
      "text/plain": [
       "Text(0.5, 0, 'Iterations')"
      ]
     },
     "execution_count": 276,
     "metadata": {},
     "output_type": "execute_result"
    },
    {
     "data": {
      "image/png": "[encoded data removed]",
      "text/plain": [
       "<Figure size 432x288 with 1 Axes>"
      ]
     },
     "metadata": {
      "needs_background": "light"
     },
     "output_type": "display_data"
    }
   ],
   "source": [
    "plt.plot(model.costs)\n",
    "plt.yscale(\"log\")\n",
    "plt.title(\"Cost function output\")\n",
    "plt.ylabel(\"MSE\")\n",
    "plt.xlabel(\"Iterations\")"
   ]
  },
  {
   "cell_type": "code",
   "execution_count": 277,
   "metadata": {},
   "outputs": [],
   "source": [
    "y_tilde = model.predict(X_train)\n",
    "y_pred = model.predict(X_test)\n",
    "\n"
   ]
  },
  {
   "cell_type": "code",
   "execution_count": 278,
   "metadata": {},
   "outputs": [
    {
     "name": "stdout",
     "output_type": "stream",
     "text": [
      "MSE for training data = 0.0006546529045472798\n",
      "MSE for test data = 0.0006569755824291486\n"
     ]
    }
   ],
   "source": [
    "from sklearn.metrics import mean_squared_error\n",
    "MSEtrain = mean_squared_error(y_train, y_tilde)\n",
    "MSEtest = mean_squared_error(y_test, y_pred)\n",
    "print(\"MSE for training data = {}\".format(MSEtrain))\n",
    "print(\"MSE for test data = {}\".format(MSEtest))"
   ]
  },
  {
   "cell_type": "markdown",
   "metadata": {},
   "source": [
    "# Plotting the model on the whole dataset"
   ]
  },
  {
   "cell_type": "code",
   "execution_count": 279,
   "metadata": {},
   "outputs": [],
   "source": [
    "y_total = model.predict(X)"
   ]
  },
  {
   "cell_type": "code",
   "execution_count": 280,
   "metadata": {},
   "outputs": [
    {
     "data": {
      "text/plain": [
       "<matplotlib.legend.Legend at 0x19d05e95cf8>"
      ]
     },
     "execution_count": 280,
     "metadata": {},
     "output_type": "execute_result"
    },
    {
     "data": {
      "image/png": "[encoded data removed]",
      "text/plain": [
       "<Figure size 432x288 with 1 Axes>"
      ]
     },
     "metadata": {
      "needs_background": "light"
     },
     "output_type": "display_data"
    }
   ],
   "source": [
    "plt.plot(np.squeeze(y_total), label=\"Training predicted\")\n",
    "plt.plot(np.squeeze(y), label=\"Real data\")\n",
    "plt.plot(np.sin(2*np.squeeze(X)), label=\"Ground Truth\")\n",
    "plt.legend()"
   ]
  },
  {
   "cell_type": "code",
   "execution_count": null,
   "metadata": {},
   "outputs": [],
   "source": []
  },
  {
   "cell_type": "markdown",
   "metadata": {},
   "source": [
    "# Note to self!\n",
    "### This model with sigmoid seems to work great with exponential distributions, but really poorly with other groundlying truths. This may occur to the fact that sigmoid is a poor activation function or that some of the other model parameters need finer tuning, maybe max epochs, batch size, leanring rate, optimization method. \n",
    "### It really seems to struggle optimizing with other functions!\n",
    "## Upon further reflection and reading, it is very important that the last activation function has the ability to project the output! The identity function can output both positive and negative values, $[-x,x] \\rightarrow [-x,x]$, meanwhile the non-leaky relu and the sigmoid can only output $[0,\\infty)$"
   ]
  }
 ],
 "metadata": {
  "kernelspec": {
   "display_name": "Python 3",
   "language": "python",
   "name": "python3"
  },
  "language_info": {
   "codemirror_mode": {
    "name": "ipython",
    "version": 3
   },
   "file_extension": ".py",
   "mimetype": "text/x-python",
   "name": "python",
   "nbconvert_exporter": "python",
   "pygments_lexer": "ipython3",
   "version": "3.7.1"
  }
 },
 "nbformat": 4,
 "nbformat_minor": 4
}
