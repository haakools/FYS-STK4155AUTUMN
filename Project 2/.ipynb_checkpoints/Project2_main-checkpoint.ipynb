{
 "cells": [
  {
   "cell_type": "code",
   "execution_count": 1,
   "metadata": {},
   "outputs": [],
   "source": [
    "import FunctionsLibrary as fn\n",
    "import matplotlib.pyplot as plt\n",
    "import numpy as np\n",
    "from sklearn.model_selection import  train_test_split \n",
    "from sklearn.datasets import load_breast_cancer\n",
    "from sklearn.linear_model import LogisticRegression\n",
    "from sklearn.model_selection import train_test_split\n",
    "from sklearn.preprocessing import StandardScaler"
   ]
  },
  {
   "cell_type": "markdown",
   "metadata": {},
   "source": [
    "# Neural Network Classification"
   ]
  },
  {
   "cell_type": "markdown",
   "metadata": {},
   "source": [
    "## Wisconsin Breast Cancer Data"
   ]
  },
  {
   "cell_type": "code",
   "execution_count": 2,
   "metadata": {},
   "outputs": [],
   "source": [
    "# Breast Cancer data\n",
    "cancer = load_breast_cancer()\n",
    "X = cancer.data\n",
    "y = cancer.target\n",
    "\n",
    "# One-hot encoded\n",
    "Y = fn.to_categorical_numpy(y)\n",
    "\n",
    "# Splitting\n",
    "X_train, X_test, Y_train, Y_test = train_test_split(X,Y, test_size=0.2)\n",
    "\n",
    "# Scaling\n",
    "scaler= StandardScaler()\n",
    "scaler.fit(X_train)\n",
    "X_train_scaled = scaler.transform(X_train)\n",
    "X_test_scaled = scaler.transform(X_test)"
   ]
  },
  {
   "cell_type": "code",
   "execution_count": 3,
   "metadata": {},
   "outputs": [
    {
     "data": {
      "text/plain": [
       "(30, 114)"
      ]
     },
     "execution_count": 3,
     "metadata": {},
     "output_type": "execute_result"
    }
   ],
   "source": [
    "X_test_scaled.T.shape"
   ]
  },
  {
   "cell_type": "code",
   "execution_count": 4,
   "metadata": {},
   "outputs": [
    {
     "name": "stdout",
     "output_type": "stream",
     "text": [
      "Number of categories: 2\n",
      "Number of features: 30\n"
     ]
    }
   ],
   "source": [
    "n_categories = Y.shape[1]\n",
    "n_features = X.shape[1]\n",
    "print(\"Number of categories:\", n_categories)\n",
    "print(\"Number of features:\", n_features)"
   ]
  },
  {
   "cell_type": "code",
   "execution_count": 5,
   "metadata": {},
   "outputs": [],
   "source": [
    "hidden_layers = [('relu',0),('relu',0.01),'softmax']\n",
    "layer_dims=[n_features,6,4,n_categories]\n",
    "NNclassifier = fn.NN(layer_dims=layer_dims,\n",
    "                     hidden_layers=hidden_layers,\n",
    "                     cost_function=\"CrossEntropy\",\n",
    "                     optimization_method = \"SGDM\",\n",
    "                     batch_size = 32,\n",
    "                     max_epoch=100, \n",
    "                     verbose=1, \n",
    "                     #penalty=\"l2\",\n",
    "                     lamb=0.001,\n",
    "                     learning_rate=0.1)"
   ]
  },
  {
   "cell_type": "code",
   "execution_count": 6,
   "metadata": {},
   "outputs": [
    {
     "name": "stdout",
     "output_type": "stream",
     "text": [
      "Initilizing Weights...\n",
      "Starting Training...\n",
      "Cost function after epoch 10: 0.07241931126758558\n",
      "Cost function after epoch 20: 0.052649938891852356\n",
      "Cost function after epoch 30: 0.04444954545686058\n",
      "Cost function after epoch 40: 0.03696536591762368\n",
      "Cost function after epoch 50: 0.03232215543287892\n",
      "Cost function after epoch 60: 0.02798195084326418\n",
      "Cost function after epoch 70: 0.024739256284476062\n",
      "Cost function after epoch 80: 0.022330042264027496\n",
      "Cost function after epoch 90: 0.02128316529966206\n",
      "Cost function after epoch 100: 0.018999932158798114\n"
     ]
    },
    {
     "data": {
      "text/plain": [
       "<FunctionsLibrary.NN at 0x270571ba0d0>"
      ]
     },
     "execution_count": 6,
     "metadata": {},
     "output_type": "execute_result"
    }
   ],
   "source": [
    "NNclassifier.fit(X_train_scaled.T,Y_train.T)"
   ]
  },
  {
   "cell_type": "code",
   "execution_count": 7,
   "metadata": {},
   "outputs": [
    {
     "data": {
      "text/plain": [
       "Text(0.5, 1.0, 'Loss and accuracy after each epoch')"
      ]
     },
     "execution_count": 7,
     "metadata": {},
     "output_type": "execute_result"
    },
    {
     "data": {
      "image/png": "[encoded data removed]",
      "text/plain": [
       "<Figure size 432x288 with 2 Axes>"
      ]
     },
     "metadata": {
      "needs_background": "light"
     },
     "output_type": "display_data"
    }
   ],
   "source": [
    "fig, ax1 = plt.subplots()\n",
    "\n",
    "color = 'tab:red'\n",
    "ax1.plot(NNclassifier.costs,color=color, label=\"Cost function\")\n",
    "ax1.set_xlabel(\"n epochs\")\n",
    "ax1.set_ylabel(\"Cost\",color=color)\n",
    "ax1.tick_params(axis='y', labelcolor=color)\n",
    "\n",
    "ax2 = ax1.twinx()\n",
    "color = 'tab:blue'\n",
    "ax2.plot(NNclassifier.acc, label=\"accuracy\",color=color)\n",
    "ax2.set_ylabel(\"Accuracy\",color=color)\n",
    "ax2.tick_params(axis='y', labelcolor=color)\n",
    "\n",
    "plt.title(\"Loss and accuracy after each epoch\")\n"
   ]
  },
  {
   "cell_type": "code",
   "execution_count": 8,
   "metadata": {},
   "outputs": [
    {
     "name": "stdout",
     "output_type": "stream",
     "text": [
      "NN Training accuracy: 0.996\n",
      "NN Testing accuracy: 0.956\n"
     ]
    }
   ],
   "source": [
    "Y_tilde = NNclassifier.predict(X_train_scaled.T)\n",
    "Y_pred = NNclassifier.predict(X_test_scaled.T)\n",
    "\n",
    "NN_train_acc = fn.accuracy(Y_train, np.argmax(Y_tilde, axis=0))\n",
    "NN_test_acc = fn.accuracy(Y_test, np.argmax(Y_pred, axis=0))\n",
    "print(\"NN Training accuracy: %.3f\" % NN_train_acc )\n",
    "print(\"NN Testing accuracy: %.3f\" % NN_test_acc )"
   ]
  },
  {
   "cell_type": "markdown",
   "metadata": {},
   "source": [
    "## Loading the MNIST data base"
   ]
  },
  {
   "cell_type": "code",
   "execution_count": 2,
   "metadata": {},
   "outputs": [
    {
     "data": {
      "image/png": "[encoded data removed]",
      "text/plain": [
       "<Figure size 432x288 with 5 Axes>"
      ]
     },
     "metadata": {
      "needs_background": "light"
     },
     "output_type": "display_data"
    }
   ],
   "source": [
    "from sklearn import datasets\n",
    "\n",
    "digits = datasets.load_digits()\n",
    "\n",
    "# define inputs and labels\n",
    "inputs = digits.images\n",
    "labels = digits.target\n",
    "\n",
    "n_inputs = len(inputs)\n",
    "inputs = inputs.reshape(n_inputs, -1)\n",
    "\n",
    "# choose some random images to display\n",
    "indices = np.arange(n_inputs)\n",
    "random_indices = np.random.choice(indices, size=5)\n",
    "\n",
    "for i, image in enumerate(digits.images[random_indices]):\n",
    "    plt.subplot(1, 5, i+1)\n",
    "    plt.axis('off')\n",
    "    plt.imshow(image, cmap=plt.cm.gray_r, interpolation='nearest')\n",
    "    plt.title(\"Label: %d\" % digits.target[random_indices[i]])\n",
    "plt.suptitle(\" \\n\\n\\n\\n\\n\\nSample of MNIST dataset\", fontsize=20)\n",
    "plt.tight_layout()\n",
    "plt.show()\n"
   ]
  },
  {
   "cell_type": "code",
   "execution_count": 10,
   "metadata": {},
   "outputs": [],
   "source": [
    "X = inputs\n",
    "Y = fn.to_categorical_numpy(labels)\n",
    "n_features = X.shape[1]\n",
    "n_categories = Y.shape[1]\n",
    "\n",
    "X_train, X_test, Y_train, Y_test = train_test_split(X,Y,test_size = 0.2)\n",
    "\n",
    "# Reshaping to fit into the Neural Network\n",
    "X_train, X_test = X_train.T, X_test.T\n",
    "Y_train, Y_test = Y_train.T, Y_test.T"
   ]
  },
  {
   "cell_type": "markdown",
   "metadata": {},
   "source": [
    "### Setting up the NN for classification"
   ]
  },
  {
   "cell_type": "code",
   "execution_count": 17,
   "metadata": {},
   "outputs": [],
   "source": [
    "hidden_layers = [('relu',0),('relu',0.001),'softmax']\n",
    "layer_dims=[n_features,20,10,n_categories]\n",
    "\n",
    "NNclassifier = fn.NN(layer_dims=layer_dims, \n",
    "                     hidden_layers=hidden_layers, \n",
    "                     cost_function='CrossEntropy',\n",
    "                     optimization_method = \"SGD\",\n",
    "                     batch_size = 32, \n",
    "                     max_epoch=100, \n",
    "                     penalty=\"l2\",\n",
    "                     lamb=0,\n",
    "                     verbose=1, \n",
    "                     learning_rate=0.05)"
   ]
  },
  {
   "cell_type": "code",
   "execution_count": 18,
   "metadata": {},
   "outputs": [
    {
     "name": "stdout",
     "output_type": "stream",
     "text": [
      "Initilizing Weights...\n",
      "Starting Training...\n",
      "Cost function after epoch 10: 1.6429955427332548\n",
      "Cost function after epoch 20: 0.8141782827838348\n",
      "Cost function after epoch 30: 0.4130181997689796\n",
      "Cost function after epoch 40: 1.0079328628813033\n",
      "Cost function after epoch 50: 0.2113601873712571\n",
      "Cost function after epoch 60: 0.14315373042799517\n",
      "Cost function after epoch 70: 0.2013481210655842\n",
      "Cost function after epoch 80: 0.07169225973854379\n",
      "Cost function after epoch 90: 0.08212834405456168\n",
      "Cost function after epoch 100: 0.08136804558138297\n"
     ]
    },
    {
     "data": {
      "text/plain": [
       "<FunctionsLibrary.NN at 0x2705c5a12b0>"
      ]
     },
     "execution_count": 18,
     "metadata": {},
     "output_type": "execute_result"
    }
   ],
   "source": [
    "NNclassifier.fit(X_train, Y_train)"
   ]
  },
  {
   "cell_type": "code",
   "execution_count": 19,
   "metadata": {},
   "outputs": [
    {
     "data": {
      "text/plain": [
       "Text(0.5, 1.0, 'Loss and accuracy after each epoch')"
      ]
     },
     "execution_count": 19,
     "metadata": {},
     "output_type": "execute_result"
    },
    {
     "data": {
      "image/png": "[encoded data removed]",
      "text/plain": [
       "<Figure size 432x288 with 2 Axes>"
      ]
     },
     "metadata": {
      "needs_background": "light"
     },
     "output_type": "display_data"
    }
   ],
   "source": [
    "fig, ax1 = plt.subplots()\n",
    "\n",
    "color = 'tab:red'\n",
    "ax1.plot(NNclassifier.costs,color=color, label=\"Cost function\")\n",
    "ax1.set_xlabel(\"n epochs\")\n",
    "ax1.set_ylabel(\"Cost\",color=color)\n",
    "ax1.tick_params(axis='y', labelcolor=color)\n",
    "\n",
    "ax2 = ax1.twinx()\n",
    "color = 'tab:blue'\n",
    "ax2.plot(NNclassifier.acc, label=\"accuracy\",color=color)\n",
    "ax2.set_ylabel(\"Accuracy\",color=color)\n",
    "ax2.tick_params(axis='y', labelcolor=color)\n",
    "\n",
    "plt.title(\"Loss and accuracy after each epoch\")\n"
   ]
  },
  {
   "cell_type": "code",
   "execution_count": 20,
   "metadata": {},
   "outputs": [
    {
     "name": "stdout",
     "output_type": "stream",
     "text": [
      "NN Training accuracy: 0.974\n",
      "NN Testing accuracy: 0.922\n"
     ]
    }
   ],
   "source": [
    "Y_tilde = NNclassifier.predict(X_train)\n",
    "Y_pred = NNclassifier.predict(X_test)\n",
    "\n",
    "NN_train_acc = fn.accuracy(Y_train.T, np.argmax(Y_tilde, axis=0))\n",
    "NN_test_acc = fn.accuracy(Y_test.T, np.argmax(Y_pred, axis=0))\n",
    "print(\"NN Training accuracy: %.3f\" % NN_train_acc )\n",
    "print(\"NN Testing accuracy: %.3f\" % NN_test_acc )"
   ]
  },
  {
   "cell_type": "markdown",
   "metadata": {},
   "source": [
    "### Dependance of MNIST NN on different increasing l2 penalty term"
   ]
  },
  {
   "cell_type": "code",
   "execution_count": 15,
   "metadata": {},
   "outputs": [],
   "source": [
    "# Looping over different lambdas\n",
    "lamb_array = np.logspace(-5,3,40)\n",
    "mean_counter = 20\n",
    "train_acc = np.zeros(lamb_array.shape)\n",
    "test_acc = np.zeros(lamb_array.shape)\n",
    "\n",
    "hidden_layers = [('relu',0),('relu',0.001),'softmax']\n",
    "layer_dims=[n_features,20,10,n_categories]\n",
    "for i in range(len(lamb_array)):\n",
    "    NNclassifier = fn.NN(layer_dims=layer_dims, \n",
    "                         hidden_layers=hidden_layers, \n",
    "                         cost_function='CrossEntropy',\n",
    "                         optimization_method = \"Adam\",\n",
    "                         batch_size = 32, \n",
    "                         max_epoch=300, \n",
    "                         penalty=\"l2\",\n",
    "                         lamb=lamb_array[i],\n",
    "                         verbose=0, \n",
    "                         learning_rate=0.001)\n",
    "    NNclassifier.fit(X_train, Y_train)\n",
    "    Y_tilde = NNclassifier.predict(X_train)\n",
    "    Y_pred = NNclassifier.predict(X_test)\n",
    "    train_acc[i] = fn.accuracy(Y_train.T, np.argmax(Y_tilde, axis=0))\n",
    "    test_acc[i] = fn.accuracy(Y_test.T, np.argmax(Y_pred, axis=0))\n",
    "\n"
   ]
  },
  {
   "cell_type": "code",
   "execution_count": 16,
   "metadata": {},
   "outputs": [
    {
     "data": {
      "text/plain": [
       "<matplotlib.legend.Legend at 0x2705c4c4f40>"
      ]
     },
     "execution_count": 16,
     "metadata": {},
     "output_type": "execute_result"
    },
    {
     "data": {
      "image/png": "[encoded data removed]",
      "text/plain": [
       "<Figure size 432x288 with 1 Axes>"
      ]
     },
     "metadata": {
      "needs_background": "light"
     },
     "output_type": "display_data"
    }
   ],
   "source": [
    "plt.plot(lamb_array, train_acc, label=\"Training Accuracy\")\n",
    "plt.plot(lamb_array, test_acc, label=\"Testing Accuracy\")\n",
    "plt.xscale(\"log\")\n",
    "plt.ylabel(\"Accuracy\")\n",
    "plt.xlabel(\"Penalty Term\")\n",
    "plt.ylim(0,1.1)\n",
    "plt.legend()"
   ]
  },
  {
   "cell_type": "markdown",
   "metadata": {},
   "source": [
    "## Testing more intercatively with showing example image and then feeding it into the Neural Network"
   ]
  },
  {
   "cell_type": "code",
   "execution_count": 16,
   "metadata": {},
   "outputs": [
    {
     "data": {
      "image/png": "[encoded data removed]",
      "text/plain": [
       "<Figure size 432x288 with 5 Axes>"
      ]
     },
     "metadata": {
      "needs_background": "light"
     },
     "output_type": "display_data"
    }
   ],
   "source": [
    "## Selecting a figure\n",
    "indices = np.arange(len(X_test.T))\n",
    "entries = 5\n",
    "random_indices = np.random.choice(indices, size=entries)\n",
    "\n",
    "testing = X_test.T\n",
    "fig = plt.figure()\n",
    "for i, img in enumerate(testing[random_indices]):\n",
    "    plt.subplot(1, entries, i+1)\n",
    "    plt.axis('off')\n",
    "    plt.imshow(img.reshape(8,8), cmap=plt.cm.gray_r, interpolation='nearest')\n",
    "    pred_int = np.argmax(NNclassifier.predict(img.reshape(-1,1)), axis=0)[0]\n",
    "    label_digit = np.argmax(Y_test[:,random_indices[i]], axis=0)\n",
    "    plt.title(\"Label %d \\n Prediction: %i\" % (label_digit,np.int(pred_int)))\n",
    "plt.tight_layout()\n",
    "fig.suptitle(\"\\n\\nSample of Logistic Regression predictions\", fontsize=20)\n",
    "plt.show()"
   ]
  },
  {
   "cell_type": "markdown",
   "metadata": {},
   "source": [
    "# Logistic regression on the MNIST data"
   ]
  },
  {
   "cell_type": "code",
   "execution_count": 3,
   "metadata": {},
   "outputs": [],
   "source": [
    "from sklearn import datasets\n",
    "\n",
    "digits = datasets.load_digits()\n",
    "\n",
    "# define inputs and labels\n",
    "inputs = digits.images\n",
    "labels = digits.target\n",
    "\n",
    "n_inputs = len(inputs)\n",
    "inputs = inputs.reshape(n_inputs, -1)\n",
    "\n",
    "\n",
    "X = inputs\n",
    "Y = fn.to_categorical_numpy(labels)\n",
    "n_features = X.shape[1]\n",
    "n_categories = Y.shape[1]\n",
    "\n",
    "X_train, X_test, Y_train, Y_test = train_test_split(X,Y,test_size = 0.2)"
   ]
  },
  {
   "cell_type": "code",
   "execution_count": 4,
   "metadata": {},
   "outputs": [
    {
     "data": {
      "text/plain": [
       "(1797, 64)"
      ]
     },
     "execution_count": 4,
     "metadata": {},
     "output_type": "execute_result"
    }
   ],
   "source": [
    "X.shape"
   ]
  },
  {
   "cell_type": "markdown",
   "metadata": {},
   "source": [
    "### Scaling the data"
   ]
  },
  {
   "cell_type": "code",
   "execution_count": 5,
   "metadata": {},
   "outputs": [],
   "source": [
    "from sklearn.preprocessing import StandardScaler\n",
    "scaler = StandardScaler()\n",
    "scaler.fit(X_train)\n",
    "X_train_scaled = scaler.transform(X_train)\n",
    "X_test_scaled = scaler.transform(X_test)"
   ]
  },
  {
   "cell_type": "markdown",
   "metadata": {},
   "source": [
    "## Creating the model and fitting the data into the Multi-Class Logistic Regression Classifier"
   ]
  },
  {
   "cell_type": "code",
   "execution_count": 20,
   "metadata": {},
   "outputs": [
    {
     "name": "stderr",
     "output_type": "stream",
     "text": [
      "C:\\Users\\hakon\\Documents\\GitHub\\FYS-STK4155AUTUMN\\Project 2\\FunctionsLibrary.py:91: RuntimeWarning: overflow encountered in exp\n",
      "  cost = -np.sum( np.multiply(y,X.dot(beta))-np.log(np.ones((N,C))+np.exp(X.dot(beta)) ))/N\n",
      "C:\\Users\\hakon\\Documents\\GitHub\\FYS-STK4155AUTUMN\\Project 2\\FunctionsLibrary.py:339: RuntimeWarning: overflow encountered in exp\n",
      "  return np.where(X >= 0, 1 / (1 + np.exp(-X)), np.exp(X) / (1 + np.exp(X)))\n",
      "C:\\Users\\hakon\\Documents\\GitHub\\FYS-STK4155AUTUMN\\Project 2\\FunctionsLibrary.py:339: RuntimeWarning: invalid value encountered in true_divide\n",
      "  return np.where(X >= 0, 1 / (1 + np.exp(-X)), np.exp(X) / (1 + np.exp(X)))\n"
     ]
    },
    {
     "data": {
      "text/plain": [
       "[<matplotlib.lines.Line2D at 0x23925c20430>]"
      ]
     },
     "execution_count": 20,
     "metadata": {},
     "output_type": "execute_result"
    },
    {
     "data": {
      "image/png": "[encoded data removed]",
      "text/plain": [
       "<Figure size 432x288 with 1 Axes>"
      ]
     },
     "metadata": {
      "needs_background": "light"
     },
     "output_type": "display_data"
    }
   ],
   "source": [
    "\n",
    "logit_mnist = fn.logisticmulticlass(X_train_scaled, Y_train,\n",
    "                                    optimizer=[\"SGD\"],\n",
    "                                    learning_rate = 0.01, \n",
    "                                    batch_size = 32,\n",
    "                                    max_epoch=200,\n",
    "                                    penalty=\"l2\",\n",
    "                                    lamb=0.0001)\n",
    "\n",
    "logit_mnist.fit(X_train_scaled, Y_train)\n",
    "plt.plot(np.arange(200),logit_mnist.costs)\n"
   ]
  },
  {
   "cell_type": "code",
   "execution_count": 21,
   "metadata": {
    "collapsed": true,
    "jupyter": {
     "outputs_hidden": true
    }
   },
   "outputs": [
    {
     "data": {
      "text/plain": [
       "[5.6487689945775195,\n",
       " 5.5405997770680315,\n",
       " 5.5191019104831165,\n",
       " 5.410616835234721,\n",
       " 5.431185532330466,\n",
       " 5.373232207741475,\n",
       " 5.418259485611346,\n",
       " 5.375511777674054,\n",
       " 5.433653464139553,\n",
       " 5.375895264974463,\n",
       " 5.354286330265401,\n",
       " 5.338631171262498,\n",
       " 5.274323941884592,\n",
       " 5.356320183868027,\n",
       " 5.276245750648849,\n",
       " 5.485182965504809,\n",
       " 5.435991737281243,\n",
       " 5.345459010653167,\n",
       " 5.2283635703037055,\n",
       " 5.407158270463028,\n",
       " 5.363563705496799,\n",
       " 5.254381410570785,\n",
       " 5.432179232171909,\n",
       " 5.2952395516146264,\n",
       " 5.210385606420978,\n",
       " 5.259090568046205,\n",
       " 5.2950177127689155,\n",
       " 5.201659970192081,\n",
       " 5.2141107044325485,\n",
       " 5.19991227650064,\n",
       " 5.172347618952692,\n",
       " 5.233016596960723,\n",
       " 5.155993569462802,\n",
       " 5.2381377874672435,\n",
       " 5.236436743367554,\n",
       " 5.210402457907056,\n",
       " 5.138136643289622,\n",
       " 5.180537324372698,\n",
       " 5.135888359205288,\n",
       " 5.1468580412552605,\n",
       " 5.117108442832214,\n",
       " 5.128281795434602,\n",
       " 5.105785262083265,\n",
       " 5.127667079290989,\n",
       " 5.1263714949303045,\n",
       " 5.152763109214552,\n",
       " 5.080196461102935,\n",
       " 5.110596196434469,\n",
       " 5.084593746004804,\n",
       " 5.018295730386262,\n",
       " 5.1252400834822245,\n",
       " 5.1416510661467765,\n",
       " 5.010744040713016,\n",
       " 5.123745865652791,\n",
       " 5.049852730657516,\n",
       " 5.040298117198514,\n",
       " 5.023649648360783,\n",
       " 5.040474345207101,\n",
       " 5.07644933749104,\n",
       " 4.964102601924484,\n",
       " 5.029158410435412,\n",
       " 5.004049387468555,\n",
       " 5.040658626025398,\n",
       " 5.06368759844379,\n",
       " 4.974013252823947,\n",
       " 4.935315434224812,\n",
       " 4.969877311100596,\n",
       " 5.014293404651921,\n",
       " 4.951498806989601,\n",
       " 5.004641152801512,\n",
       " 5.013762418873994,\n",
       " 5.013794086675266,\n",
       " 5.037452987642965,\n",
       " 4.951970252858041,\n",
       " 4.965888213234525,\n",
       " 4.980701157420267,\n",
       " 4.9619356850869405,\n",
       " 4.967704344771516,\n",
       " 5.000846429493622,\n",
       " 4.963186416865222,\n",
       " 5.023480999873094,\n",
       " 5.079374213244153,\n",
       " 5.036455601082908,\n",
       " 4.930220780145971,\n",
       " 5.243035579628735,\n",
       " 4.941383555260112,\n",
       " 4.946740390462966,\n",
       " 4.934788320890014,\n",
       " 4.948708709818416,\n",
       " 4.978591706575188,\n",
       " 4.986595353319472,\n",
       " inf,\n",
       " inf,\n",
       " inf,\n",
       " inf,\n",
       " inf,\n",
       " inf,\n",
       " inf,\n",
       " inf,\n",
       " inf,\n",
       " inf,\n",
       " inf,\n",
       " inf,\n",
       " inf,\n",
       " inf,\n",
       " inf,\n",
       " inf,\n",
       " inf,\n",
       " inf,\n",
       " inf,\n",
       " inf,\n",
       " inf,\n",
       " inf,\n",
       " inf,\n",
       " inf,\n",
       " inf,\n",
       " inf,\n",
       " inf,\n",
       " inf,\n",
       " inf,\n",
       " inf,\n",
       " inf,\n",
       " inf,\n",
       " inf,\n",
       " inf,\n",
       " inf,\n",
       " inf,\n",
       " inf,\n",
       " inf,\n",
       " inf,\n",
       " inf,\n",
       " inf,\n",
       " inf,\n",
       " inf,\n",
       " inf,\n",
       " inf,\n",
       " inf,\n",
       " inf,\n",
       " inf,\n",
       " inf,\n",
       " inf,\n",
       " inf,\n",
       " inf,\n",
       " inf,\n",
       " inf,\n",
       " inf,\n",
       " inf,\n",
       " inf,\n",
       " inf,\n",
       " inf,\n",
       " inf,\n",
       " inf,\n",
       " inf,\n",
       " inf,\n",
       " inf,\n",
       " inf,\n",
       " inf,\n",
       " inf,\n",
       " inf,\n",
       " inf,\n",
       " inf,\n",
       " inf,\n",
       " inf,\n",
       " inf,\n",
       " inf,\n",
       " inf,\n",
       " inf,\n",
       " inf,\n",
       " inf,\n",
       " inf,\n",
       " inf,\n",
       " inf,\n",
       " inf,\n",
       " inf,\n",
       " inf,\n",
       " inf,\n",
       " inf,\n",
       " inf,\n",
       " inf,\n",
       " inf,\n",
       " inf,\n",
       " inf,\n",
       " inf,\n",
       " inf,\n",
       " inf,\n",
       " inf,\n",
       " inf,\n",
       " inf,\n",
       " inf,\n",
       " inf,\n",
       " inf,\n",
       " inf,\n",
       " inf,\n",
       " inf,\n",
       " inf,\n",
       " inf,\n",
       " inf,\n",
       " inf,\n",
       " inf,\n",
       " inf]"
      ]
     },
     "execution_count": 21,
     "metadata": {},
     "output_type": "execute_result"
    }
   ],
   "source": [
    "logit_mnist.costs"
   ]
  },
  {
   "cell_type": "code",
   "execution_count": 22,
   "metadata": {},
   "outputs": [
    {
     "name": "stdout",
     "output_type": "stream",
     "text": [
      "Logistic Training accuracy: 0.914\n",
      "Logistic accuracy: 0.914\n"
     ]
    },
    {
     "name": "stderr",
     "output_type": "stream",
     "text": [
      "C:\\Users\\hakon\\Documents\\GitHub\\FYS-STK4155AUTUMN\\Project 2\\FunctionsLibrary.py:339: RuntimeWarning: overflow encountered in exp\n",
      "  return np.where(X >= 0, 1 / (1 + np.exp(-X)), np.exp(X) / (1 + np.exp(X)))\n",
      "C:\\Users\\hakon\\Documents\\GitHub\\FYS-STK4155AUTUMN\\Project 2\\FunctionsLibrary.py:339: RuntimeWarning: invalid value encountered in true_divide\n",
      "  return np.where(X >= 0, 1 / (1 + np.exp(-X)), np.exp(X) / (1 + np.exp(X)))\n"
     ]
    }
   ],
   "source": [
    "Y_tilde = logit_mnist.predict(X_train_scaled)\n",
    "Y_pred = logit_mnist.predict(X_test_scaled)\n",
    "\n",
    "logist_train_acc = fn.accuracy(Y_train, np.argmax(Y_tilde, axis=1))\n",
    "logist_test_acc = fn.accuracy(Y_test, np.argmax(Y_pred, axis=1))\n",
    "print(\"Logistic Training accuracy: %.3f\" % logist_train_acc )\n",
    "print(\"Logistic accuracy: %.3f\" % logist_train_acc )"
   ]
  },
  {
   "cell_type": "markdown",
   "metadata": {},
   "source": [
    "### Comparing with sci-kit learn implementation"
   ]
  },
  {
   "cell_type": "code",
   "execution_count": 23,
   "metadata": {},
   "outputs": [],
   "source": [
    "from sklearn.linear_model import LogisticRegression\n",
    "scikit_logreg = LogisticRegression()\n",
    "clf = scikit_logreg.fit(X_train_scaled, np.argmax(Y_train, axis=1))"
   ]
  },
  {
   "cell_type": "code",
   "execution_count": 24,
   "metadata": {},
   "outputs": [
    {
     "name": "stdout",
     "output_type": "stream",
     "text": [
      "SciKit Learn Logistic Training accuracy: 0.999\n",
      "SciKit Learn Logistic accuracy: 0.981\n"
     ]
    }
   ],
   "source": [
    "Y_tilde_scikit = scikit_logreg.predict(X_train_scaled)\n",
    "Y_pred_scikit = scikit_logreg.predict(X_test_scaled)\n",
    "\n",
    "train_acc_scikit = fn.accuracy(Y_train, Y_tilde_scikit)\n",
    "test_acc_scikit = fn.accuracy(Y_test, Y_pred_scikit)\n",
    "print(\"SciKit Learn Logistic Training accuracy: %.3f\" % train_acc_scikit )\n",
    "print(\"SciKit Learn Logistic accuracy: %.3f\" % test_acc_scikit )"
   ]
  },
  {
   "cell_type": "code",
   "execution_count": null,
   "metadata": {},
   "outputs": [],
   "source": []
  },
  {
   "cell_type": "markdown",
   "metadata": {},
   "source": [
    "### Comparing different optimizers"
   ]
  },
  {
   "cell_type": "code",
   "execution_count": 7,
   "metadata": {
    "collapsed": true,
    "jupyter": {
     "outputs_hidden": true
    }
   },
   "outputs": [
    {
     "name": "stdout",
     "output_type": "stream",
     "text": [
      "Choosing optimizer:  SGD\n",
      "Initilizing Weights...\n",
      "Starting Training...\n",
      "Cost function after epoch 10: 0.11043130933668492\n",
      "Cost function after epoch 20: 0.042752597606007324\n",
      "Cost function after epoch 30: 0.02135651632423921\n",
      "Cost function after epoch 40: 0.01283477312586446\n",
      "Cost function after epoch 50: 0.008799145407475272\n",
      "Cost function after epoch 60: 0.006531596800341963\n",
      "Cost function after epoch 70: 0.005121841556224024\n",
      "Cost function after epoch 80: 0.004168882911211043\n",
      "Cost function after epoch 90: 0.0034798746755037545\n",
      "Cost function after epoch 100: 0.002972623219670772\n",
      "NN Training accuracy: 0.000\n",
      "NN Testing accuracy: 0.000\n"
     ]
    },
    {
     "name": "stderr",
     "output_type": "stream",
     "text": [
      "C:\\Users\\hakon\\Documents\\GitHub\\FYS-STK4155AUTUMN\\Project 2\\FunctionsLibrary.py:378: RuntimeWarning: overflow encountered in exp\n",
      "  return np.where(X >= 0, 1 / (1 + np.exp(-X)), np.exp(X) / (1 + np.exp(X)))\n",
      "C:\\Users\\hakon\\Documents\\GitHub\\FYS-STK4155AUTUMN\\Project 2\\FunctionsLibrary.py:378: RuntimeWarning: invalid value encountered in true_divide\n",
      "  return np.where(X >= 0, 1 / (1 + np.exp(-X)), np.exp(X) / (1 + np.exp(X)))\n",
      "C:\\Users\\hakon\\Documents\\GitHub\\FYS-STK4155AUTUMN\\Project 2\\FunctionsLibrary.py:91: RuntimeWarning: overflow encountered in exp\n",
      "  cost = -np.sum( np.multiply(y,X.dot(beta))-np.log(np.ones((N,C))+np.exp(X.dot(beta)) ))/N\n"
     ]
    },
    {
     "name": "stdout",
     "output_type": "stream",
     "text": [
      "Logistic Training accuracy: 0.914\n",
      "Logistic accuracy: 0.914\n",
      "Choosing optimizer:  SGDM\n",
      "Initilizing Weights...\n",
      "Starting Training...\n",
      "Cost function after epoch 10: 2.301049985618777\n",
      "Cost function after epoch 20: 2.2992809860674446\n",
      "Cost function after epoch 30: 2.3047368889686948\n",
      "Cost function after epoch 40: 2.302128530224253\n",
      "Cost function after epoch 50: 2.3005916357739085\n",
      "Cost function after epoch 60: 2.3104725624799385\n",
      "Cost function after epoch 70: 2.300471387687315\n",
      "Cost function after epoch 80: 2.3013562286045803\n",
      "Cost function after epoch 90: 2.300989013088082\n",
      "Cost function after epoch 100: 2.309121229215682\n",
      "NN Training accuracy: 0.000\n",
      "NN Testing accuracy: 0.000\n",
      "Logistic Training accuracy: 0.896\n",
      "Logistic accuracy: 0.896\n",
      "Choosing optimizer:  RMSprop\n",
      "Initilizing Weights...\n",
      "Starting Training...\n",
      "Cost function after epoch 10: 0.14037246192848085\n",
      "Cost function after epoch 20: 0.05075576298313147\n",
      "Cost function after epoch 30: 0.0249235855232751\n",
      "Cost function after epoch 40: 0.01466099099809499\n",
      "Cost function after epoch 50: 0.009934709107860701\n",
      "Cost function after epoch 60: 0.007225387936984317\n",
      "Cost function after epoch 70: 0.005584661411158503\n",
      "Cost function after epoch 80: 0.004489191266794271\n",
      "Cost function after epoch 90: 0.003716432347810277\n",
      "Cost function after epoch 100: 0.003148346976628974\n",
      "NN Training accuracy: 0.000\n",
      "NN Testing accuracy: 0.000\n"
     ]
    },
    {
     "ename": "NameError",
     "evalue": "name 'sqrt' is not defined",
     "output_type": "error",
     "traceback": [
      "\u001b[1;31m---------------------------------------------------------------------------\u001b[0m",
      "\u001b[1;31mNameError\u001b[0m                                 Traceback (most recent call last)",
      "\u001b[1;32m<ipython-input-7-9570e8865660>\u001b[0m in \u001b[0;36m<module>\u001b[1;34m\u001b[0m\n\u001b[0;32m     29\u001b[0m                                         \u001b[0mpenalty\u001b[0m\u001b[1;33m=\u001b[0m\u001b[1;34m\"l2\"\u001b[0m\u001b[1;33m,\u001b[0m\u001b[1;33m\u001b[0m\u001b[1;33m\u001b[0m\u001b[0m\n\u001b[0;32m     30\u001b[0m                                         lamb=0.0001)\n\u001b[1;32m---> 31\u001b[1;33m     \u001b[0mlogit_mnist\u001b[0m\u001b[1;33m.\u001b[0m\u001b[0mfit\u001b[0m\u001b[1;33m(\u001b[0m\u001b[0mX_train_scaled\u001b[0m\u001b[1;33m,\u001b[0m \u001b[0mY_train\u001b[0m\u001b[1;33m)\u001b[0m\u001b[1;33m\u001b[0m\u001b[1;33m\u001b[0m\u001b[0m\n\u001b[0m\u001b[0;32m     32\u001b[0m     \u001b[0mY_tilde\u001b[0m \u001b[1;33m=\u001b[0m \u001b[0mlogit_mnist\u001b[0m\u001b[1;33m.\u001b[0m\u001b[0mpredict\u001b[0m\u001b[1;33m(\u001b[0m\u001b[0mX_train_scaled\u001b[0m\u001b[1;33m)\u001b[0m\u001b[1;33m\u001b[0m\u001b[1;33m\u001b[0m\u001b[0m\n\u001b[0;32m     33\u001b[0m     \u001b[0mY_pred\u001b[0m \u001b[1;33m=\u001b[0m \u001b[0mlogit_mnist\u001b[0m\u001b[1;33m.\u001b[0m\u001b[0mpredict\u001b[0m\u001b[1;33m(\u001b[0m\u001b[0mX_test_scaled\u001b[0m\u001b[1;33m)\u001b[0m\u001b[1;33m\u001b[0m\u001b[1;33m\u001b[0m\u001b[0m\n",
      "\u001b[1;32m~\\Documents\\GitHub\\FYS-STK4155AUTUMN\\Project 2\\FunctionsLibrary.py\u001b[0m in \u001b[0;36mfit\u001b[1;34m(self, X, y)\u001b[0m\n\u001b[0;32m    149\u001b[0m                         \u001b[1;32melif\u001b[0m \u001b[0mself\u001b[0m\u001b[1;33m.\u001b[0m\u001b[0moptimization_method\u001b[0m \u001b[1;33m==\u001b[0m\u001b[1;34m\"RMSprop\"\u001b[0m\u001b[1;33m:\u001b[0m\u001b[1;33m\u001b[0m\u001b[1;33m\u001b[0m\u001b[0m\n\u001b[0;32m    150\u001b[0m                             \u001b[0mv\u001b[0m \u001b[1;33m=\u001b[0m \u001b[0mrho_1\u001b[0m\u001b[1;33m*\u001b[0m\u001b[0mv\u001b[0m\u001b[1;33m+\u001b[0m\u001b[1;33m(\u001b[0m\u001b[1;36m1\u001b[0m\u001b[1;33m-\u001b[0m\u001b[0mrho_1\u001b[0m\u001b[1;33m)\u001b[0m\u001b[1;33m*\u001b[0m\u001b[0mgradient\u001b[0m\u001b[1;33m\u001b[0m\u001b[1;33m\u001b[0m\u001b[0m\n\u001b[1;32m--> 151\u001b[1;33m                             \u001b[0mself\u001b[0m\u001b[1;33m.\u001b[0m\u001b[0mbeta\u001b[0m\u001b[1;33m[\u001b[0m\u001b[1;33m:\u001b[0m\u001b[1;33m,\u001b[0m\u001b[0mc\u001b[0m\u001b[1;33m]\u001b[0m\u001b[1;33m-=\u001b[0m \u001b[0mself\u001b[0m\u001b[1;33m.\u001b[0m\u001b[0mlearning_rate\u001b[0m\u001b[1;33m*\u001b[0m\u001b[0mgradient\u001b[0m\u001b[1;33m/\u001b[0m\u001b[1;33m(\u001b[0m\u001b[0msqrt\u001b[0m\u001b[1;33m(\u001b[0m\u001b[0mv\u001b[0m\u001b[1;33m+\u001b[0m\u001b[0mepsilon\u001b[0m\u001b[1;33m)\u001b[0m\u001b[1;33m)\u001b[0m\u001b[1;33m\u001b[0m\u001b[1;33m\u001b[0m\u001b[0m\n\u001b[0m\u001b[0;32m    152\u001b[0m \u001b[1;33m\u001b[0m\u001b[0m\n\u001b[0;32m    153\u001b[0m                         \u001b[1;31m# Adam\u001b[0m\u001b[1;33m\u001b[0m\u001b[1;33m\u001b[0m\u001b[1;33m\u001b[0m\u001b[0m\n",
      "\u001b[1;31mNameError\u001b[0m: name 'sqrt' is not defined"
     ]
    }
   ],
   "source": [
    "opt = [\"SGD\", \"SGDM\", \"RMSprop\", \"Adam\"]\n",
    "hidden_layers = [('relu',0),('relu',0.001),'softmax']\n",
    "layer_dims=[n_features,20,10,n_categories]\n",
    "\n",
    "for i in range(len(opt)):\n",
    "    print(\"Choosing optimizer: \", opt[i])\n",
    "    \n",
    "    # Neural network\n",
    "    NNclassifier = fn.NN(layer_dims=layer_dims, hidden_layers=hidden_layers, cost_function='CrossEntropy',\n",
    "                     optimization_method = opt[i],\n",
    "                     batch_size = 32, max_epoch=100, penalty=\"l2\",lamb=0,\n",
    "                     verbose=1, learning_rate=0.05)\n",
    "\n",
    "    NNclassifier.fit(X_train_scaled.T, Y_train.T)\n",
    "    Y_tilde = NNclassifier.predict(X_train_scaled.T)\n",
    "    Y_pred = NNclassifier.predict(X_train_scaled.T)\n",
    "    # Printing scores\n",
    "    NN_train_acc = fn.accuracy(Y_train, np.argmax(Y_tilde, axis=0))\n",
    "    NN_test_acc = fn.accuracy(Y_test, np.argmax(Y_pred, axis=0))\n",
    "    print(\"NN Training accuracy: %.3f\" % NN_train_acc )\n",
    "    print(\"NN Testing accuracy: %.3f\" % NN_test_acc )\n",
    "    \n",
    "    # Logistic Regression\n",
    "    logit_mnist = fn.logisticmulticlass(X_train_scaled, Y_train,\n",
    "                                        optimization_method=opt[i],\n",
    "                                        learning_rate = 0.01, \n",
    "                                        batch_size = 32,\n",
    "                                        max_epoch=100,\n",
    "                                        penalty=\"l2\",\n",
    "                                        lamb=0.0001)\n",
    "    logit_mnist.fit(X_train_scaled, Y_train)\n",
    "    Y_tilde = logit_mnist.predict(X_train_scaled)\n",
    "    Y_pred = logit_mnist.predict(X_test_scaled)\n",
    "    \n",
    "    # Printing scores\n",
    "    logist_train_acc = fn.accuracy(Y_train, np.argmax(Y_tilde, axis=1))\n",
    "    logist_test_acc = fn.accuracy(Y_test, np.argmax(Y_pred, axis=1))\n",
    "    print(\"Logistic Training accuracy: %.3f\" % logist_train_acc )\n",
    "    print(\"Logistic accuracy: %.3f\" % logist_train_acc )"
   ]
  },
  {
   "cell_type": "code",
   "execution_count": 12,
   "metadata": {},
   "outputs": [
    {
     "data": {
      "text/plain": [
       "array([1, 0, 7, ..., 2, 6, 0], dtype=int64)"
      ]
     },
     "execution_count": 12,
     "metadata": {},
     "output_type": "execute_result"
    }
   ],
   "source": [
    "np.argmax(Y_train.T,axis=0)"
   ]
  },
  {
   "cell_type": "code",
   "execution_count": 11,
   "metadata": {},
   "outputs": [
    {
     "data": {
      "text/plain": [
       "array([1, 0, 7, ..., 2, 6, 0], dtype=int64)"
      ]
     },
     "execution_count": 11,
     "metadata": {},
     "output_type": "execute_result"
    }
   ],
   "source": [
    "np.argmax(Y_tilde, axis=0)"
   ]
  },
  {
   "cell_type": "code",
   "execution_count": 25,
   "metadata": {},
   "outputs": [
    {
     "data": {
      "image/png": "[encoded data removed]",
      "text/plain": [
       "<Figure size 432x288 with 5 Axes>"
      ]
     },
     "metadata": {
      "needs_background": "light"
     },
     "output_type": "display_data"
    }
   ],
   "source": [
    "indices = np.arange(len(X_test.T))\n",
    "entries = 5\n",
    "random_indices = np.random.choice(indices, size=entries)\n",
    "fig = plt.figure()\n",
    "for i, img in enumerate(X_test[random_indices,:]):\n",
    "    plt.subplot(1, entries, i+1)\n",
    "    plt.axis('off')\n",
    "    plt.imshow(img.reshape(8,8), cmap=plt.cm.gray_r, interpolation='nearest')\n",
    "    prediction = logit_mnist.predict(img)\n",
    "    pred_int = np.argmax(prediction, axis=0)\n",
    "    label_digit = np.argmax(Y_test[random_indices[i],:], axis=0)\n",
    "    plt.title(\"Label %d \\n Prediction: %i\" % (label_digit,np.int(pred_int)))\n",
    "plt.tight_layout()\n",
    "fig.suptitle(\"\\n\\nSample of Logistic Regression predictions\", fontsize=20)\n",
    "plt.show()"
   ]
  },
  {
   "cell_type": "markdown",
   "metadata": {},
   "source": [
    "# Using the same class for regression:"
   ]
  },
  {
   "cell_type": "code",
   "execution_count": 125,
   "metadata": {},
   "outputs": [],
   "source": [
    "import FunctionsLibrary as fn\n",
    "import numpy as np\n",
    "from sklearn.preprocessing import StandardScaler\n",
    "from sklearn.model_selection import train_test_split\n",
    "from mpl_toolkits.mplot3d import Axes3D\n",
    "import matplotlib.pyplot as plt\n",
    "from matplotlib import cm\n",
    "from matplotlib.ticker import LinearLocator, FormatStrFormatter"
   ]
  },
  {
   "cell_type": "code",
   "execution_count": 126,
   "metadata": {},
   "outputs": [],
   "source": [
    "datapoints  = 100\n",
    "noisefactor = 0\n",
    "x, y = np.linspace(0,1,datapoints), np.linspace(0,1,datapoints)\n",
    "x, y = np.meshgrid(x,y) \n",
    "z = fn.FrankeFunction(x,y,noisefactor=noisefactor)"
   ]
  },
  {
   "cell_type": "code",
   "execution_count": 127,
   "metadata": {},
   "outputs": [],
   "source": [
    "X = np.array([np.ravel(x), np.ravel(y)])\n",
    "z = z.reshape(1,datapoints**2) \n",
    "\n",
    "n_features = X.shape[0]\n",
    "n_categories = 1"
   ]
  },
  {
   "cell_type": "code",
   "execution_count": 156,
   "metadata": {},
   "outputs": [],
   "source": [
    "NNregression = fn.NN(layer_dims=[X.shape[0],10,10,1], \n",
    "                      hidden_layers=[\"sigmoid\",\"sigmoid\",\"linear\"],\n",
    "                      cost_function=\"MSE\", optimization_method = \"Adam\",\n",
    "                      batch_size = 32, max_epoch=100, \n",
    "                      verbose=1, learning_rate=0.05)"
   ]
  },
  {
   "cell_type": "code",
   "execution_count": 157,
   "metadata": {},
   "outputs": [
    {
     "name": "stdout",
     "output_type": "stream",
     "text": [
      "Initilizing Weights...\n",
      "Starting Training...\n",
      "Cost function after epoch 10: 11.333077012945344\n",
      "Cost function after epoch 20: 2.876128466890494\n",
      "Cost function after epoch 30: 1.7652651428056907\n",
      "Cost function after epoch 40: 1.4841335517322987\n",
      "Cost function after epoch 50: 0.8185276260787184\n",
      "Cost function after epoch 60: 0.5540931897802258\n",
      "Cost function after epoch 70: 1.0042449948008092\n",
      "Cost function after epoch 80: 1.016879680920284\n",
      "Cost function after epoch 90: 0.7912261854262029\n",
      "Cost function after epoch 100: 0.3882867034526737\n"
     ]
    },
    {
     "data": {
      "text/plain": [
       "<FunctionsLibrary.NN at 0x1fe388a4550>"
      ]
     },
     "execution_count": 157,
     "metadata": {},
     "output_type": "execute_result"
    }
   ],
   "source": [
    "NNregression.fit(X,z)"
   ]
  },
  {
   "cell_type": "code",
   "execution_count": 158,
   "metadata": {},
   "outputs": [
    {
     "data": {
      "text/plain": [
       "Text(0.5, 0, 'Epochs')"
      ]
     },
     "execution_count": 158,
     "metadata": {},
     "output_type": "execute_result"
    },
    {
     "data": {
      "image/png": "[encoded data removed]",
      "text/plain": [
       "<Figure size 432x288 with 1 Axes>"
      ]
     },
     "metadata": {
      "needs_background": "light"
     },
     "output_type": "display_data"
    }
   ],
   "source": [
    "plt.plot(NNregression.costs)\n",
    "plt.title(\"Cost function MSE\")\n",
    "plt.ylabel(\"0.5 MSE\")\n",
    "plt.xlabel(\"Epochs\")"
   ]
  },
  {
   "cell_type": "code",
   "execution_count": 159,
   "metadata": {},
   "outputs": [],
   "source": [
    "z_pred = NNregression.predict(X)"
   ]
  },
  {
   "cell_type": "code",
   "execution_count": 161,
   "metadata": {},
   "outputs": [
    {
     "data": {
      "image/png": "[encoded data removed]",
      "text/plain": [
       "<Figure size 432x288 with 2 Axes>"
      ]
     },
     "metadata": {
      "needs_background": "light"
     },
     "output_type": "display_data"
    }
   ],
   "source": [
    "fn.frankeplot(z_pred.reshape(datapoints,datapoints), \"NN prediction on the Franke Function \\n Adam, 100 epochs, 0.05 learning rate\")"
   ]
  },
  {
   "cell_type": "code",
   "execution_count": null,
   "metadata": {},
   "outputs": [],
   "source": []
  },
  {
   "cell_type": "code",
   "execution_count": null,
   "metadata": {},
   "outputs": [],
   "source": []
  },
  {
   "cell_type": "code",
   "execution_count": null,
   "metadata": {},
   "outputs": [],
   "source": []
  }
 ],
 "metadata": {
  "kernelspec": {
   "display_name": "Python 3",
   "language": "python",
   "name": "python3"
  },
  "language_info": {
   "codemirror_mode": {
    "name": "ipython",
    "version": 3
   },
   "file_extension": ".py",
   "mimetype": "text/x-python",
   "name": "python",
   "nbconvert_exporter": "python",
   "pygments_lexer": "ipython3",
   "version": "3.8.5"
  }
 },
 "nbformat": 4,
 "nbformat_minor": 4
}
