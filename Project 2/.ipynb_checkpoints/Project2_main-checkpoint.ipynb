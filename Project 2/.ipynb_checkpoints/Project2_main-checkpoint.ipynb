{
 "cells": [
  {
   "cell_type": "code",
   "execution_count": 2,
   "metadata": {},
   "outputs": [],
   "source": [
    "import NNclassification as NNC\n",
    "import matplotlib.pyplot as plt\n",
    "import numpy as np\n",
    "from sklearn.model_selection import  train_test_split \n",
    "from sklearn.datasets import load_breast_cancer\n",
    "from sklearn.linear_model import LogisticRegression"
   ]
  },
  {
   "cell_type": "code",
   "execution_count": 3,
   "metadata": {},
   "outputs": [],
   "source": [
    "# One-hot in numpy (from lecture notes week 41)\n",
    "def to_categorical_numpy(integer_vector):\n",
    "    n_inputs = len(integer_vector)\n",
    "    n_categories = np.max(integer_vector) + 1\n",
    "    onehot_vector = np.zeros((n_inputs, n_categories))\n",
    "    onehot_vector[range(n_inputs), integer_vector] = 1\n",
    "    \n",
    "    return onehot_vector\n",
    "\n",
    "def accuracy(y,y_pred):\n",
    "    y = np.argmax(y, axis=1) #Returns one-hot encoded vectors back to class integers\n",
    "    acc = np.sum(y==y_pred)/len(y)\n",
    "    return acc"
   ]
  },
  {
   "cell_type": "code",
   "execution_count": 4,
   "metadata": {},
   "outputs": [],
   "source": [
    "# Load the data\n",
    "cancer = load_breast_cancer()\n",
    "X = cancer.data[:,:24]\n",
    "y = cancer.target\n",
    "X = (X -np.mean(X))/np.sqrt(np.var(X))\n",
    "Y = to_categorical_numpy(y)\n"
   ]
  },
  {
   "cell_type": "code",
   "execution_count": 5,
   "metadata": {},
   "outputs": [
    {
     "name": "stdout",
     "output_type": "stream",
     "text": [
      "Number of categories: 2\n",
      "Number of features: 24\n"
     ]
    }
   ],
   "source": [
    "n_categories = Y.shape[1]\n",
    "n_features = X.shape[1]\n",
    "print(\"Number of categories:\", n_categories)\n",
    "print(\"Number of features:\", n_features)"
   ]
  },
  {
   "cell_type": "code",
   "execution_count": 15,
   "metadata": {},
   "outputs": [],
   "source": [
    "hidden_layers = [('relu',0),('relu',0.01),'softmax']\n",
    "#hidden_layers = ['sigmoid','sigmoid','softmax']\n",
    "layer_dims=[n_features,6,4,n_categories]\n",
    "NNclassifier = NNC.NN(layer_dims=layer_dims,hidden_layers=hidden_layers , cost_function=\"CrossEntropy\", optimization_method = \"Adam\",\n",
    "           batch_size = 32, max_epoch=1000, verbose=1, learning_rate=0.1)"
   ]
  },
  {
   "cell_type": "code",
   "execution_count": 16,
   "metadata": {},
   "outputs": [
    {
     "name": "stdout",
     "output_type": "stream",
     "text": [
      "Initilizing Weights...\n",
      "Starting Training...\n",
      "Cost function after epoch 100: 0.14141716048260017\n",
      "Cost function after epoch 200: 0.11861118889760501\n",
      "Cost function after epoch 300: 0.1511712944281937\n",
      "Cost function after epoch 400: 0.11671569023226525\n",
      "Cost function after epoch 500: 0.11174655396371216\n",
      "Cost function after epoch 600: 0.12050761204392764\n",
      "Cost function after epoch 700: 0.11203478165400776\n",
      "Cost function after epoch 800: 0.10834018635386616\n",
      "Cost function after epoch 900: 0.10835090492513427\n",
      "Cost function after epoch 1000: 0.10897866759944536\n"
     ]
    },
    {
     "data": {
      "text/plain": [
       "<NNclassification.NN at 0x16dc500f8d0>"
      ]
     },
     "execution_count": 16,
     "metadata": {},
     "output_type": "execute_result"
    }
   ],
   "source": [
    "NNclassifier.fit(X.T,Y.T)"
   ]
  },
  {
   "cell_type": "code",
   "execution_count": 17,
   "metadata": {},
   "outputs": [],
   "source": [
    "Y_tilde = NNclassifier.predict(X.T)"
   ]
  },
  {
   "cell_type": "code",
   "execution_count": 18,
   "metadata": {},
   "outputs": [
    {
     "data": {
      "text/plain": [
       "Text(0, 0.5, 'Cost/loss')"
      ]
     },
     "execution_count": 18,
     "metadata": {},
     "output_type": "execute_result"
    },
    {
     "data": {
      "image/png": "[encoded data removed]",
      "text/plain": [
       "<Figure size 432x288 with 1 Axes>"
      ]
     },
     "metadata": {
      "needs_background": "light"
     },
     "output_type": "display_data"
    }
   ],
   "source": [
    "plt.plot(NNclassifier.costs)\n",
    "plt.title(\"Cost/loss function per epoch\")\n",
    "plt.xlabel(\"n epochs\")\n",
    "plt.ylabel(\"Cost/loss\")"
   ]
  },
  {
   "cell_type": "code",
   "execution_count": 19,
   "metadata": {},
   "outputs": [
    {
     "data": {
      "text/plain": [
       "0.9472759226713533"
      ]
     },
     "execution_count": 19,
     "metadata": {},
     "output_type": "execute_result"
    }
   ],
   "source": [
    "accuracy(Y, Y_tilde)"
   ]
  },
  {
   "cell_type": "markdown",
   "metadata": {},
   "source": [
    "# Loading the MNISt data base\n",
    "## There are 1797 images of size 8x8 pixels in \"grayscale\""
   ]
  },
  {
   "cell_type": "code",
   "execution_count": 21,
   "metadata": {},
   "outputs": [
    {
     "name": "stdout",
     "output_type": "stream",
     "text": [
      "inputs = (n_inputs, pixel_width, pixel_height) = (1797, 8, 8)\n",
      "labels = (n_inputs) = (1797,)\n",
      "X = (n_inputs, n_features) = (1797, 64)\n"
     ]
    },
    {
     "data": {
      "image/png": "[encoded data removed]",
      "text/plain": [
       "<Figure size 432x288 with 5 Axes>"
      ]
     },
     "metadata": {
      "needs_background": "light"
     },
     "output_type": "display_data"
    }
   ],
   "source": [
    "from sklearn import datasets\n",
    "\n",
    "digits = datasets.load_digits()\n",
    "\n",
    "# define inputs and labels\n",
    "inputs = digits.images\n",
    "labels = digits.target\n",
    "\n",
    "print(\"inputs = (n_inputs, pixel_width, pixel_height) = \" + str(inputs.shape))\n",
    "print(\"labels = (n_inputs) = \" + str(labels.shape))\n",
    "\n",
    "\n",
    "# flatten the image\n",
    "# the value -1 means dimension is inferred from the remaining dimensions: 8x8 = 64\n",
    "n_inputs = len(inputs)\n",
    "inputs = inputs.reshape(n_inputs, -1)\n",
    "print(\"X = (n_inputs, n_features) = \" + str(inputs.shape))\n",
    "\n",
    "\n",
    "# choose some random images to display\n",
    "indices = np.arange(n_inputs)\n",
    "random_indices = np.random.choice(indices, size=5)\n",
    "\n",
    "\n",
    "for i, image in enumerate(digits.images[random_indices]):\n",
    "    plt.subplot(1, 5, i+1)\n",
    "    plt.axis('off')\n",
    "    plt.imshow(image, cmap=plt.cm.gray_r, interpolation='nearest')\n",
    "    plt.title(\"Label: %d\" % digits.target[random_indices[i]])\n",
    "plt.show()\n"
   ]
  },
  {
   "cell_type": "code",
   "execution_count": 22,
   "metadata": {},
   "outputs": [],
   "source": [
    "X = inputs\n",
    "Y = to_categorical_numpy(labels)\n",
    "n_features = X.shape[1]\n",
    "n_categories = Y.shape[1]\n",
    "\n",
    "X_train, X_test, Y_train, Y_test = train_test_split(X,Y,test_size = 0.2)"
   ]
  },
  {
   "cell_type": "code",
   "execution_count": 23,
   "metadata": {},
   "outputs": [],
   "source": [
    "X_train, X_test = X_train.T, X_test.T\n",
    "Y_train, Y_test = Y_train.T, Y_test.T"
   ]
  },
  {
   "cell_type": "markdown",
   "metadata": {},
   "source": [
    "## Setting up the NN for classification"
   ]
  },
  {
   "cell_type": "code",
   "execution_count": 24,
   "metadata": {},
   "outputs": [],
   "source": [
    "hidden_layers = [('relu',0),('relu',0.001),'softmax']\n",
    "layer_dims=[n_features,20,10,n_categories]\n",
    "\n",
    "NNclassifier = NNC.NN(layer_dims=layer_dims, hidden_layers=hidden_layers, cost_function='CrossEntropy', optimization_method = \"SGDM\", \n",
    "                      batch_size = 32, max_epoch=100, verbose=1, learning_rate=0.05)"
   ]
  },
  {
   "cell_type": "code",
   "execution_count": 25,
   "metadata": {},
   "outputs": [
    {
     "name": "stdout",
     "output_type": "stream",
     "text": [
      "Initilizing Weights...\n",
      "Starting Training...\n",
      "Cost function after epoch 10: 0.40209712872108333\n",
      "Cost function after epoch 20: 0.1653428381249404\n",
      "Cost function after epoch 30: 0.14137872412899166\n",
      "Cost function after epoch 40: 0.09891695014843166\n",
      "Cost function after epoch 50: 0.15646953231404326\n",
      "Cost function after epoch 60: 0.0318405986036601\n",
      "Cost function after epoch 70: 0.026556525163031593\n",
      "Cost function after epoch 80: 0.01429547538898078\n",
      "Cost function after epoch 90: 0.01096175365825026\n",
      "Cost function after epoch 100: 0.032681487895605627\n"
     ]
    },
    {
     "data": {
      "text/plain": [
       "<NNclassification.NN at 0x16dc4fa9c18>"
      ]
     },
     "execution_count": 25,
     "metadata": {},
     "output_type": "execute_result"
    }
   ],
   "source": [
    "NNclassifier.fit(X_train, Y_train)"
   ]
  },
  {
   "cell_type": "code",
   "execution_count": 26,
   "metadata": {},
   "outputs": [
    {
     "data": {
      "text/plain": [
       "[<matplotlib.lines.Line2D at 0x16dc538c630>]"
      ]
     },
     "execution_count": 26,
     "metadata": {},
     "output_type": "execute_result"
    },
    {
     "data": {
      "image/png": "[encoded data removed]",
      "text/plain": [
       "<Figure size 432x288 with 1 Axes>"
      ]
     },
     "metadata": {
      "needs_background": "light"
     },
     "output_type": "display_data"
    }
   ],
   "source": [
    "plt.plot(NNclassifier.costs)"
   ]
  },
  {
   "cell_type": "code",
   "execution_count": 27,
   "metadata": {},
   "outputs": [],
   "source": [
    "Y_tilde = NNclassifier.predict(X_train)\n",
    "Y_pred = NNclassifier.predict(X_test)"
   ]
  },
  {
   "cell_type": "code",
   "execution_count": 28,
   "metadata": {},
   "outputs": [
    {
     "data": {
      "text/plain": [
       "((10, 1437), (1437,))"
      ]
     },
     "execution_count": 28,
     "metadata": {},
     "output_type": "execute_result"
    }
   ],
   "source": [
    "Y_train.shape, Y_tilde.shape"
   ]
  },
  {
   "cell_type": "code",
   "execution_count": 96,
   "metadata": {},
   "outputs": [
    {
     "data": {
      "text/plain": [
       "<matplotlib.collections.PathCollection at 0x16dc51487f0>"
      ]
     },
     "execution_count": 96,
     "metadata": {},
     "output_type": "execute_result"
    },
    {
     "data": {
      "image/png": "[encoded data removed]",
      "text/plain": [
       "<Figure size 432x288 with 1 Axes>"
      ]
     },
     "metadata": {
      "needs_background": "light"
     },
     "output_type": "display_data"
    }
   ],
   "source": [
    "plt.scatter(Y_tilde, np.argmax(Y_train.T, axis=1), alpha=0.1, color=\"r\")"
   ]
  },
  {
   "cell_type": "code",
   "execution_count": 29,
   "metadata": {},
   "outputs": [
    {
     "data": {
      "text/plain": [
       "0.9895615866388309"
      ]
     },
     "execution_count": 29,
     "metadata": {},
     "output_type": "execute_result"
    }
   ],
   "source": [
    "accuracy(Y_train.T, Y_tilde)"
   ]
  },
  {
   "cell_type": "code",
   "execution_count": 30,
   "metadata": {},
   "outputs": [
    {
     "data": {
      "text/plain": [
       "0.9194444444444444"
      ]
     },
     "execution_count": 30,
     "metadata": {},
     "output_type": "execute_result"
    }
   ],
   "source": [
    "accuracy(Y_test.T, Y_pred)"
   ]
  },
  {
   "cell_type": "markdown",
   "metadata": {},
   "source": [
    "# Testing more intercatively with showing example image and then feeding it into the Neural Network"
   ]
  },
  {
   "cell_type": "code",
   "execution_count": 31,
   "metadata": {},
   "outputs": [],
   "source": [
    "# Selecting a figure"
   ]
  },
  {
   "cell_type": "code",
   "execution_count": 48,
   "metadata": {},
   "outputs": [
    {
     "data": {
      "text/plain": [
       "(64,)"
      ]
     },
     "execution_count": 48,
     "metadata": {},
     "output_type": "execute_result"
    }
   ],
   "source": [
    "X_test[:,50].shape"
   ]
  },
  {
   "cell_type": "code",
   "execution_count": 51,
   "metadata": {},
   "outputs": [
    {
     "data": {
      "text/plain": [
       "0"
      ]
     },
     "execution_count": 51,
     "metadata": {},
     "output_type": "execute_result"
    }
   ],
   "source": []
  },
  {
   "cell_type": "code",
   "execution_count": null,
   "metadata": {},
   "outputs": [],
   "source": []
  },
  {
   "cell_type": "code",
   "execution_count": 154,
   "metadata": {},
   "outputs": [
    {
     "data": {
      "image/png": "[encoded data removed]",
      "text/plain": [
       "<Figure size 432x288 with 5 Axes>"
      ]
     },
     "metadata": {
      "needs_background": "light"
     },
     "output_type": "display_data"
    }
   ],
   "source": [
    "indices = np.arange(len(X_test.T))\n",
    "entries = 5\n",
    "random_indices = np.random.choice(indices, size=entries)\n",
    "\n",
    "testing = X_test.T\n",
    "\n",
    "for i, img in enumerate(testing[random_indices]):\n",
    "    plt.subplot(1, entries, i+1)\n",
    "    plt.axis('off')\n",
    "    plt.imshow(img.reshape(8,8), cmap=plt.cm.gray_r, interpolation='nearest')\n",
    "    pred_int = NNclassifier.predict(img.reshape(-1,1))\n",
    "    label_digit = np.argmax(Y_test[:,random_indices[i]], axis=0)\n",
    "    plt.title(\"Label %d \\n Prediction: %i\" % (label_digit,np.int(pred_int)))\n",
    "plt.tight_layout()\n",
    "plt.show()"
   ]
  },
  {
   "cell_type": "code",
   "execution_count": null,
   "metadata": {},
   "outputs": [],
   "source": []
  },
  {
   "cell_type": "markdown",
   "metadata": {},
   "source": [
    "# Sidenote: Using the same class for regression:"
   ]
  },
  {
   "cell_type": "code",
   "execution_count": 27,
   "metadata": {},
   "outputs": [],
   "source": [
    "import FunctionsLibrary as fn\n",
    "import numpy as np\n",
    "from sklearn.preprocessing import StandardScaler\n",
    "from sklearn.model_selection import train_test_split\n",
    "from mpl_toolkits.mplot3d import Axes3D\n",
    "import matplotlib.pyplot as plt\n",
    "from matplotlib import cm\n",
    "from matplotlib.ticker import LinearLocator, FormatStrFormatter"
   ]
  },
  {
   "cell_type": "code",
   "execution_count": 28,
   "metadata": {},
   "outputs": [],
   "source": [
    "datapoints  = 100\n",
    "noisefactor = 0\n",
    "x, y = np.linspace(0,1,datapoints), np.linspace(0,1,datapoints)\n",
    "x, y = np.meshgrid(x,y) \n",
    "z = fn.FrankeFunction(x,y,noisefactor=noisefactor)"
   ]
  },
  {
   "cell_type": "code",
   "execution_count": 29,
   "metadata": {},
   "outputs": [],
   "source": [
    "X = np.array([np.ravel(x), np.ravel(y)])\n",
    "z = z.reshape(1,datapoints**2) # Reshaping the ground truth to be able to fit through the network."
   ]
  },
  {
   "cell_type": "code",
   "execution_count": 30,
   "metadata": {},
   "outputs": [],
   "source": [
    "n_features = X.shape[0]\n",
    "n_categories = 1"
   ]
  },
  {
   "cell_type": "code",
   "execution_count": 31,
   "metadata": {},
   "outputs": [
    {
     "data": {
      "text/plain": [
       "2"
      ]
     },
     "execution_count": 31,
     "metadata": {},
     "output_type": "execute_result"
    }
   ],
   "source": [
    "n_features"
   ]
  },
  {
   "cell_type": "code",
   "execution_count": 37,
   "metadata": {},
   "outputs": [],
   "source": [
    "NNregression = NNC.NN(layer_dims=[X.shape[0],10,10,1], hidden_layers=[\"sigmoid\",\"sigmoid\",\"linear\"], cost_function=\"MSE\", \n",
    "                      optimization_method = \"SGDM\", batch_size = 10, max_epoch=1000, verbose=1, learning_rate=0.05)"
   ]
  },
  {
   "cell_type": "code",
   "execution_count": 38,
   "metadata": {},
   "outputs": [
    {
     "name": "stdout",
     "output_type": "stream",
     "text": [
      "Initilizing Weights...\n",
      "Starting Training...\n",
      "Cost function after epoch 100: 76.67408210570794\n",
      "Cost function after epoch 200: 33.57825728073891\n",
      "Cost function after epoch 300: 31.309859911433588\n",
      "Cost function after epoch 400: 29.38063947449811\n",
      "Cost function after epoch 500: 25.874558525007302\n",
      "Cost function after epoch 600: 23.086168522968634\n",
      "Cost function after epoch 700: 15.188831474898421\n",
      "Cost function after epoch 800: 12.827028229632683\n",
      "Cost function after epoch 900: 11.742032472314131\n",
      "Cost function after epoch 1000: 11.081447031986535\n"
     ]
    },
    {
     "data": {
      "text/plain": [
       "<NNclassification.NN at 0x2141beff9e8>"
      ]
     },
     "execution_count": 38,
     "metadata": {},
     "output_type": "execute_result"
    }
   ],
   "source": [
    "NNregression.fit(X,z)"
   ]
  },
  {
   "cell_type": "code",
   "execution_count": 39,
   "metadata": {},
   "outputs": [
    {
     "data": {
      "text/plain": [
       "Text(0.5, 0, 'Epochs')"
      ]
     },
     "execution_count": 39,
     "metadata": {},
     "output_type": "execute_result"
    },
    {
     "data": {
      "image/png": "[encoded data removed]",
      "text/plain": [
       "<Figure size 432x288 with 1 Axes>"
      ]
     },
     "metadata": {
      "needs_background": "light"
     },
     "output_type": "display_data"
    }
   ],
   "source": [
    "plt.plot(NNregression.costs)\n",
    "plt.title(\"Cost function MSE\")\n",
    "plt.ylabel(\"0.5 MSE\")\n",
    "plt.xlabel(\"Epochs\")"
   ]
  },
  {
   "cell_type": "code",
   "execution_count": 40,
   "metadata": {},
   "outputs": [],
   "source": [
    "z_pred = NNregression.predict(X, proba=True)"
   ]
  },
  {
   "cell_type": "code",
   "execution_count": 41,
   "metadata": {},
   "outputs": [
    {
     "data": {
      "image/png": "[encoded data removed]",
      "text/plain": [
       "<Figure size 432x288 with 2 Axes>"
      ]
     },
     "metadata": {
      "needs_background": "light"
     },
     "output_type": "display_data"
    }
   ],
   "source": [
    "z_pred_surf = z_pred.reshape(datapoints,datapoints)\n",
    "fig = plt.figure()\n",
    "ax = fig.gca(projection='3d')\n",
    "\n",
    "surf = ax.plot_surface(x, y, z_pred_surf, cmap=cm.coolwarm,\n",
    "                        linewidth=0, antialiased=False)\n",
    "\n",
    "# Labeling the axes\n",
    "ax.set_xlabel('X')\n",
    "ax.set_ylabel('Y')\n",
    "ax.set_zlabel('Z')\n",
    "\n",
    "# Customize the z axis.\n",
    "ax.zaxis.set_major_locator(LinearLocator(10))\n",
    "ax.zaxis.set_major_formatter(FormatStrFormatter('%.02f'))\n",
    "ax.set_title(\"NN prediction on the Franke Function\", fontsize = 16)\n",
    "ax.set_zlim(-0.10, 1.40)\n",
    "\n",
    "# Add a color bar which maps values to colors.\n",
    "fig.colorbar(surf, shrink=0.5, aspect=5)\n",
    "plt.show()"
   ]
  },
  {
   "cell_type": "code",
   "execution_count": null,
   "metadata": {},
   "outputs": [],
   "source": []
  }
 ],
 "metadata": {
  "kernelspec": {
   "display_name": "Python 3",
   "language": "python",
   "name": "python3"
  },
  "language_info": {
   "codemirror_mode": {
    "name": "ipython",
    "version": 3
   },
   "file_extension": ".py",
   "mimetype": "text/x-python",
   "name": "python",
   "nbconvert_exporter": "python",
   "pygments_lexer": "ipython3",
   "version": "3.7.1"
  }
 },
 "nbformat": 4,
 "nbformat_minor": 4
}
