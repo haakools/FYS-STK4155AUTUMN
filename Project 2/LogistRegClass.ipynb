{
 "cells": [
  {
   "cell_type": "code",
   "execution_count": 3,
   "metadata": {},
   "outputs": [],
   "source": [
    "import numpy as np\n",
    "from sklearn.preprocessing import StandardScaler\n",
    "from sklearn.model_selection import train_test_split\n",
    "from mpl_toolkits.mplot3d import Axes3D\n",
    "import matplotlib.pyplot as plt\n",
    "from matplotlib import cm\n",
    "from matplotlib.ticker import LinearLocator, FormatStrFormatter\n"
   ]
  },
  {
   "cell_type": "markdown",
   "metadata": {},
   "source": [
    "# Logistic Regression Class (WORK IN PROGRESS MAKING IT MULTI-CLASSIFYING):\n"
   ]
  },
  {
   "cell_type": "code",
   "execution_count": 4,
   "metadata": {},
   "outputs": [],
   "source": [
    "def logisticX(X):\n",
    "    \"\"\"\n",
    "    Input:\n",
    "        The features classes as a matrix of the  with shape (N,p-1)\n",
    "    Ouput:\n",
    "        The design matrix used in logistic regression with shape \n",
    "    Add 1s to the matrix of the features as the first column.\n",
    "    \"\"\"\n",
    "    ONE = np.ones((X.shape[0])).reshape(X.shape[0],1)\n",
    "    X = np.concatenate((ONE, X), axis=1)\n",
    "    \n",
    "    return X\n",
    "\n",
    "# One-hot in numpy (from lecture notes week 41)\n",
    "def to_categorical_numpy(integer_vector):\n",
    "    n_inputs = len(integer_vector)\n",
    "    n_categories = np.max(integer_vector) + 1\n",
    "    onehot_vector = np.zeros((n_inputs, n_categories))\n",
    "    onehot_vector[range(n_inputs), integer_vector] = 1\n",
    "    \n",
    "    return onehot_vector\n"
   ]
  },
  {
   "cell_type": "code",
   "execution_count": 5,
   "metadata": {},
   "outputs": [],
   "source": [
    "def softmax(X):\n",
    "    return np.exp(X-np.max(X))/np.sum(np.exp(X-np.max(X)))\n",
    "def sigmoid(x):\n",
    "    # Numerical stability implemented by using different algebraic definitions\n",
    "    # for positive or negative values \n",
    "    return np.where(x >= 0, 1 / (1 + np.exp(-x)), np.exp(x) / (1 + np.exp(x)))\n",
    "\n",
    "\n",
    "class logisticmulticlass(object):\n",
    "    \n",
    "    def __init__(self, X, y, optimizer, learning_rate= 0.01, batch_size = 32, max_epoch=100):\n",
    "        \n",
    "        self.X = X\n",
    "        self.y = y\n",
    "        self.C = y.shape[1]\n",
    "        self.optimizer = optimizer\n",
    "        self.learning_rate = learning_rate\n",
    "        self.batch_size = batch_size\n",
    "        self.max_epoch = max_epoch\n",
    "    @staticmethod  \n",
    "    def compute_cost(X, y, beta, verbose=0):\n",
    "        # Computing the cost function \n",
    "        C = beta.shape[1]\n",
    "        N = X.shape[0]\n",
    "        cost = np.sum( np.multiply(y,X.dot(beta))-np.log(np.ones((N,C))+np.exp(X.dot(beta)) ))/N\n",
    "        return cost\n",
    "\n",
    "    def fit(self,X,y):\n",
    "        # Initializing beta as a matrix, where each row is corresponding to a model defining that class.        \n",
    "        self.beta = np.random.normal(0, 1, size=(X.shape[1], y.shape[1]))/y.shape[1]\n",
    "        \n",
    "        # Intializing the cost  \n",
    "        self.costs = []\n",
    "        \n",
    "        # Create randomized index for the batches\n",
    "        N = X.shape[0] \n",
    "        idx = np.arange(0,N)\n",
    "        \n",
    "        for epoch in range(self.max_epoch):\n",
    "            # Randomizing the data for each epoch\n",
    "            np.random.shuffle(idx)\n",
    "            X = X[idx,:]\n",
    "            y = y[idx,:]\n",
    "\n",
    "            for i in range(0, N, self.batch_size):\n",
    "                \n",
    "                X_batch = X[i:i+self.batch_size,:]\n",
    "                y_batch = y[i:i+self.batch_size,:]\n",
    "                for c in range(0, self.C):\n",
    "                    \n",
    "                    # Batch prediction \n",
    "                    y_batch_pred = sigmoid(X_batch.dot(self.beta[:,c]))\n",
    "\n",
    "                    # Calculating the gradient \n",
    "                    gradient = -X_batch.T.dot(y_batch[:,c]-y_batch_pred)\n",
    "\n",
    "                    # Updating Beta\n",
    "                    self.beta[:,c] -= self.learning_rate*gradient \n",
    "\n",
    "            # Computing the cost after each epoch storing it \n",
    "            cost = self.compute_cost(X, y, self.beta)\n",
    "            self.costs.append(cost)\n",
    "        return self\n",
    "    \n",
    "    def predict(self,X):\n",
    "        self.y_pred = sigmoid(X.dot(self.beta))\n",
    "        return self.y_pred"
   ]
  },
  {
   "cell_type": "markdown",
   "metadata": {},
   "source": [
    "# Loading and preparing the dataset:"
   ]
  },
  {
   "cell_type": "code",
   "execution_count": 6,
   "metadata": {},
   "outputs": [],
   "source": [
    "from sklearn import datasets\n",
    "\n",
    "digits = datasets.load_digits()\n",
    "\n",
    "# define inputs and labels\n",
    "inputs = digits.images\n",
    "labels = digits.target\n",
    "\n",
    "# Ravel the image so that each of the pixels is treated as an explanatory variable (/feature)\n",
    "n_inputs = len(inputs)\n",
    "inputs = inputs.reshape(n_inputs, -1)\n",
    "\n",
    "# choose some random images to display\n",
    "indices = np.arange(n_inputs)\n",
    "random_indices = np.random.choice(indices, size=5)\n",
    "\n",
    "\n"
   ]
  },
  {
   "cell_type": "code",
   "execution_count": 7,
   "metadata": {},
   "outputs": [
    {
     "data": {
      "image/png": "[encoded data removed]",
      "text/plain": [
       "<Figure size 432x288 with 5 Axes>"
      ]
     },
     "metadata": {
      "needs_background": "light"
     },
     "output_type": "display_data"
    }
   ],
   "source": [
    "# Example of dataset with given labels\n",
    "for i, image in enumerate(digits.images[random_indices]):\n",
    "    plt.subplot(1, 5, i+1)\n",
    "    plt.axis('off')\n",
    "    plt.imshow(image, cmap=plt.cm.gray_r, interpolation='nearest')\n",
    "    plt.title(\"Label: %d\" % digits.target[random_indices[i]])\n",
    "plt.show()\n"
   ]
  },
  {
   "cell_type": "code",
   "execution_count": 8,
   "metadata": {},
   "outputs": [],
   "source": [
    "X = inputs\n",
    "Y = to_categorical_numpy(labels)\n",
    "n_features = X.shape[1]\n",
    "n_categories = Y.shape[1]\n",
    "\n",
    "X_train, X_test, Y_train, Y_test = train_test_split(X,Y,test_size = 0.2)\n"
   ]
  },
  {
   "cell_type": "code",
   "execution_count": 9,
   "metadata": {},
   "outputs": [],
   "source": [
    "#now scale the data\n",
    "from sklearn.preprocessing import StandardScaler\n",
    "scaler = StandardScaler()\n",
    "scaler.fit(X_train)\n",
    "X_train_scaled = scaler.transform(X_train)\n",
    "X_test_scaled = scaler.transform(X_test)\n"
   ]
  },
  {
   "cell_type": "markdown",
   "metadata": {},
   "source": [
    "# Creating and fitting the multi-class logistic model:"
   ]
  },
  {
   "cell_type": "code",
   "execution_count": 10,
   "metadata": {},
   "outputs": [],
   "source": [
    "X = inputs\n",
    "Y = to_categorical_numpy(labels)\n",
    "n_features = X.shape[1]\n",
    "n_categories = Y.shape[1]\n",
    "\n",
    "X_train, X_test, Y_train, Y_test = train_test_split(X,Y,test_size = 0.2)\n",
    "\n",
    "\n",
    "#now scale the data\n",
    "from sklearn.preprocessing import StandardScaler\n",
    "scaler = StandardScaler()\n",
    "scaler.fit(X_train)\n",
    "X_train_scaled = scaler.transform(X_train)\n",
    "X_test_scaled = scaler.transform(X_test)\n",
    "\n",
    "\n",
    "\n",
    "max_epoch = 100\n",
    "batch_size = 32\n",
    "learning_rate = 0.001\n",
    "MULTI = logisticmulticlass(X, Y, optimizer=[\"SGD\"],\n",
    "                            learning_rate = learning_rate, \n",
    "                            batch_size = batch_size,\n",
    "                            max_epoch=max_epoch)\n",
    "MULTI.fit(X_train_scaled, Y_train)\n",
    "Y_tilde = MULTI.predict(X_train_scaled)\n",
    "Y_pred = MULTI.predict(X_test_scaled)\n"
   ]
  },
  {
   "cell_type": "code",
   "execution_count": 11,
   "metadata": {},
   "outputs": [
    {
     "data": {
      "text/plain": [
       "<__main__.logisticmulticlass at 0x1fca369a940>"
      ]
     },
     "execution_count": 11,
     "metadata": {},
     "output_type": "execute_result"
    }
   ],
   "source": [
    "MULTI.fit(X_train_scaled, Y_train)"
   ]
  },
  {
   "cell_type": "code",
   "execution_count": 12,
   "metadata": {},
   "outputs": [],
   "source": [
    "Y_tilde = MULTI.predict(X_train_scaled)\n",
    "Y_pred = MULTI.predict(X_test_scaled)"
   ]
  },
  {
   "cell_type": "markdown",
   "metadata": {},
   "source": [
    "# Evalutaing the accuracy"
   ]
  },
  {
   "cell_type": "code",
   "execution_count": 13,
   "metadata": {},
   "outputs": [],
   "source": [
    "def accuracy(y,y_pred):\n",
    "    y = np.argmax(y, axis=1) #Returns one-hot encoded vectors back to class integers\n",
    "    y_pred = np.argmax(y_pred, axis=1)\n",
    "    acc = np.sum(y==y_pred)/len(y)\n",
    "    return acc"
   ]
  },
  {
   "cell_type": "code",
   "execution_count": 14,
   "metadata": {},
   "outputs": [
    {
     "name": "stdout",
     "output_type": "stream",
     "text": [
      "The Training accuracy of the multinomial logistic regression was:  0.9269311064718163\n",
      "The Test accuracy of the multinomial logistic regression was:  0.9083333333333333\n"
     ]
    }
   ],
   "source": [
    "trainAcc = accuracy(Y_train, Y_tilde)\n",
    "testAcc = accuracy(Y_test, Y_pred)\n",
    "print(\"The Training accuracy of the multinomial logistic regression was: \", trainAcc)\n",
    "print(\"The Test accuracy of the multinomial logistic regression was: \", testAcc)"
   ]
  },
  {
   "cell_type": "code",
   "execution_count": 15,
   "metadata": {},
   "outputs": [
    {
     "data": {
      "text/plain": [
       "[<matplotlib.lines.Line2D at 0x1fca23be1f0>]"
      ]
     },
     "execution_count": 15,
     "metadata": {},
     "output_type": "execute_result"
    },
    {
     "data": {
      "image/png": "[encoded data removed]",
      "text/plain": [
       "<Figure size 432x288 with 1 Axes>"
      ]
     },
     "metadata": {
      "needs_background": "light"
     },
     "output_type": "display_data"
    }
   ],
   "source": [
    "plt.plot(MULTI.costs)"
   ]
  },
  {
   "cell_type": "code",
   "execution_count": null,
   "metadata": {},
   "outputs": [],
   "source": []
  },
  {
   "cell_type": "markdown",
   "metadata": {},
   "source": [
    "# Below is an interesting visualization of the logistic regression. \n",
    "## A loop over all the classes estimates the probability that the number is a 0, 1, 2,... etc.\n",
    "## For some numbers, it keeps a high probability for the number given, say X[3], is either a 1, 3 or an 8.\n",
    "## By evaluating the accuracy for the model using np.argmax, i.e. resulting in giving the highest probability \"winner takes all\", we can get a high value of correct guesses - but the model is not very certain this actually is the number as it also have 98 and 93 probabilities for two other numbers.\n",
    "## The provedence for this uncertainty can be resulted from the fact that the gradient is only updated for the given class at question. That is to say, under training, if the image the algorithm sees is a 3, it will only tweak the probability of it being a 3. If the model think it is a 9, it will not change the probability it is a 9. \n",
    "## But as the probability is only changed for desired output, we can argue that taking the highest value is sufficient."
   ]
  },
  {
   "cell_type": "code",
   "execution_count": 407,
   "metadata": {},
   "outputs": [
    {
     "name": "stdout",
     "output_type": "stream",
     "text": [
      "[[2.33845572e-06]]\n",
      "[[0.98768974]]\n",
      "[[0.28447967]]\n",
      "[[0.99999997]]\n",
      "[[0.00405121]]\n",
      "[[0.35481804]]\n",
      "[[0.45528069]]\n",
      "[[0.00325117]]\n",
      "[[0.93167796]]\n",
      "[[0.25933108]]\n"
     ]
    }
   ],
   "source": [
    "for c in range(0,10):\n",
    "    print(sigmoid(X[3].reshape(64,-1).T.dot(MULTI.beta[:,c].reshape(64,1))))"
   ]
  },
  {
   "cell_type": "code",
   "execution_count": 408,
   "metadata": {},
   "outputs": [
    {
     "name": "stdout",
     "output_type": "stream",
     "text": [
      "3\n"
     ]
    },
    {
     "data": {
      "image/png": "[encoded data removed]",
      "text/plain": [
       "<Figure size 432x288 with 1 Axes>"
      ]
     },
     "metadata": {
      "needs_background": "light"
     },
     "output_type": "display_data"
    }
   ],
   "source": [
    "plt.imshow(X[3].reshape(8,8))\n",
    "print(np.argmax(Y[3]))"
   ]
  },
  {
   "cell_type": "markdown",
   "metadata": {},
   "source": [
    "# Logistic regression for binary"
   ]
  },
  {
   "cell_type": "code",
   "execution_count": 127,
   "metadata": {},
   "outputs": [],
   "source": [
    "class LogisticRegression(object):\n",
    "    \n",
    "    def __init__(self, X, y, optimizer, learning_rate= 0.01, batch_size = 32, max_epoch=100):\n",
    "        \n",
    "        self.X = X\n",
    "        self.y = y\n",
    "        self.optimizer = optimizer\n",
    "        self.learning_rate = learning_rate\n",
    "        self.batch_size = batch_size\n",
    "        self.max_epoch = max_epoch\n",
    "        \n",
    "    @staticmethod\n",
    "    def sigmoid(X, derivative=False):\n",
    "        if derivative == False:\n",
    "            out = 1 / (1 + np.exp(-np.array(X)))\n",
    "        elif derivative == True:\n",
    "            s = 1 / (1 + np.exp(-np.array(X)))\n",
    "            out = s*(1-s)\n",
    "        return out\n",
    "    \n",
    "    @staticmethod  \n",
    "    def compute_cost(X, y, beta):\n",
    "        # Computing the cost fucntion to see the how the effect of the learning_rate and the optimizer\n",
    "        \n",
    "        # Cross Entropy Cost Function BINARY\n",
    "        cost = -np.sum( y.dot(X.dot(beta))-np.log(np.ones(len(X))+np.exp(X.dot(beta))))\n",
    "        \n",
    "        # Cost function for mutlticlass logistic regression\n",
    "        cost = -y.dot(np.log(softmax(X.dot(beta))))\n",
    "        \n",
    "        \n",
    "        \n",
    "        return cost\n",
    "    \n",
    "    @staticmethod      \n",
    "    def accuracy(y,y_pred):\n",
    "        acc = np.sum(y==np.round(y_pred))/len(y)\n",
    "        return acc\n",
    "    \n",
    "    @staticmethod\n",
    "    def softmax(X, derivative=False):\n",
    "        # Softmax activation function\n",
    "        # Returns two outputs:\n",
    "        #   out[ind] : which is the maximum value\n",
    "        #   ind      : which is the index of the maximum value (one hot index)\n",
    "        if derivative == True:\n",
    "            out = np.exp(X)/np.sum(np.exp(X))\n",
    "        elif derivative == True:\n",
    "            out = np.exp(X)/np.sum(np.exp(X))-1 \n",
    "        # Out[ind] gives the first (if there are two equal value guesses), maximum value\n",
    "        # of the softmax function.\n",
    "        return out\n",
    "\n",
    "    def fit(self,X,y):\n",
    "        # Initializing beta \n",
    "        self.beta = np.random.standard_normal(X.shape[1])\n",
    "        #self.beta = np.random.randn(0,1,size=(X.shape[1]))\n",
    "        \n",
    "        # Intializing the cost  \n",
    "        self.costs = []\n",
    "        \n",
    "        # Initializing the iterations\n",
    "        self.iter_no = 0\n",
    "        # Creatie randomized index for the batches\n",
    "        M = X.shape[0] # This is amount of datapoitns (??)\n",
    "        idx = np.arange(0,M)\n",
    "        \n",
    "        for epoch in range(self.max_epoch):\n",
    "            # Randomizing the data for each epoch\n",
    "            np.random.shuffle(idx)\n",
    "            X = X[idx,:]\n",
    "            y = y[idx]\n",
    "            \n",
    "            for i in range(0, M, self.batch_size):\n",
    "                self.iter_no = self.iter_no + i\n",
    "                \n",
    "                X_batch = X[i:i+self.batch_size,:]\n",
    "                y_batch = y[i:i+self.batch_size]\n",
    "                \n",
    "                \n",
    "                \n",
    "                # Calculating the gradient\n",
    "                gradient = -X_batch.T.dot(y_batch-LogisticRegression.sigmoid(X_batch.dot(self.beta)))\n",
    "                \n",
    "                # Updating Beta\n",
    "                self.beta -= self.learning_rate*gradient \n",
    "                \n",
    "\n",
    "            # Computing the cost after each epoch storing it (interesting to see with the different optimizers)\n",
    "            #print(y.shape, X.shape, self.beta.shape)\n",
    "            cost = self.compute_cost(X, y, self.beta)\n",
    "            self.costs.append(cost)\n",
    "        return self\n",
    "    \n",
    "    def predict(self,X):\n",
    "        y_pred = LogisticRegression.sigmoid(X.dot(self.beta))\n",
    "        return y_pred"
   ]
  },
  {
   "cell_type": "code",
   "execution_count": 157,
   "metadata": {},
   "outputs": [
    {
     "name": "stdout",
     "output_type": "stream",
     "text": [
      "(426, 30)\n",
      "(143, 30)\n"
     ]
    }
   ],
   "source": [
    "from sklearn.datasets import load_breast_cancer\n",
    "from sklearn.model_selection import train_test_split\n",
    "\n",
    "# Load the data\n",
    "cancer = load_breast_cancer()\n",
    "\n",
    "X_train, X_test, y_train, y_test = train_test_split(cancer.data,cancer.target,random_state=0)\n",
    "print(X_train.shape)\n",
    "print(X_test.shape)"
   ]
  },
  {
   "cell_type": "code",
   "execution_count": 158,
   "metadata": {},
   "outputs": [],
   "source": [
    "#now scale the data\n",
    "from sklearn.preprocessing import StandardScaler\n",
    "scaler = StandardScaler()\n",
    "scaler.fit(X_train)\n",
    "X_train_scaled = scaler.transform(X_train)\n",
    "X_test_scaled = scaler.transform(X_test)\n"
   ]
  },
  {
   "cell_type": "code",
   "execution_count": null,
   "metadata": {},
   "outputs": [],
   "source": []
  },
  {
   "cell_type": "code",
   "execution_count": 196,
   "metadata": {
    "collapsed": true,
    "jupyter": {
     "outputs_hidden": true
    }
   },
   "outputs": [
    {
     "data": {
      "text/plain": [
       "array([[1., 0.],\n",
       "       [0., 1.],\n",
       "       [0., 1.],\n",
       "       [0., 1.],\n",
       "       [0., 1.],\n",
       "       [0., 1.],\n",
       "       [0., 1.],\n",
       "       [0., 1.],\n",
       "       [0., 1.],\n",
       "       [0., 1.],\n",
       "       [0., 1.],\n",
       "       [0., 1.],\n",
       "       [0., 1.],\n",
       "       [0., 1.],\n",
       "       [0., 1.],\n",
       "       [1., 0.],\n",
       "       [0., 1.],\n",
       "       [1., 0.],\n",
       "       [1., 0.],\n",
       "       [1., 0.],\n",
       "       [1., 0.],\n",
       "       [1., 0.],\n",
       "       [0., 1.],\n",
       "       [0., 1.],\n",
       "       [1., 0.],\n",
       "       [0., 1.],\n",
       "       [0., 1.],\n",
       "       [1., 0.],\n",
       "       [0., 1.],\n",
       "       [1., 0.],\n",
       "       [0., 1.],\n",
       "       [1., 0.],\n",
       "       [0., 1.],\n",
       "       [1., 0.],\n",
       "       [0., 1.],\n",
       "       [1., 0.],\n",
       "       [0., 1.],\n",
       "       [1., 0.],\n",
       "       [0., 1.],\n",
       "       [1., 0.],\n",
       "       [1., 0.],\n",
       "       [0., 1.],\n",
       "       [1., 0.],\n",
       "       [0., 1.],\n",
       "       [0., 1.],\n",
       "       [1., 0.],\n",
       "       [0., 1.],\n",
       "       [0., 1.],\n",
       "       [0., 1.],\n",
       "       [1., 0.],\n",
       "       [1., 0.],\n",
       "       [1., 0.],\n",
       "       [1., 0.],\n",
       "       [0., 1.],\n",
       "       [0., 1.],\n",
       "       [0., 1.],\n",
       "       [0., 1.],\n",
       "       [0., 1.],\n",
       "       [0., 1.],\n",
       "       [1., 0.],\n",
       "       [1., 0.],\n",
       "       [1., 0.],\n",
       "       [0., 1.],\n",
       "       [0., 1.],\n",
       "       [1., 0.],\n",
       "       [0., 1.],\n",
       "       [1., 0.],\n",
       "       [1., 0.],\n",
       "       [1., 0.],\n",
       "       [0., 1.],\n",
       "       [0., 1.],\n",
       "       [1., 0.],\n",
       "       [0., 1.],\n",
       "       [1., 0.],\n",
       "       [1., 0.],\n",
       "       [0., 1.],\n",
       "       [0., 1.],\n",
       "       [0., 1.],\n",
       "       [0., 1.],\n",
       "       [0., 1.],\n",
       "       [1., 0.],\n",
       "       [1., 0.],\n",
       "       [1., 0.],\n",
       "       [0., 1.],\n",
       "       [1., 0.],\n",
       "       [0., 1.],\n",
       "       [0., 1.],\n",
       "       [0., 1.],\n",
       "       [1., 0.],\n",
       "       [1., 0.],\n",
       "       [0., 1.],\n",
       "       [1., 0.],\n",
       "       [0., 1.],\n",
       "       [1., 0.],\n",
       "       [0., 1.],\n",
       "       [0., 1.],\n",
       "       [1., 0.],\n",
       "       [0., 1.],\n",
       "       [0., 1.],\n",
       "       [0., 1.],\n",
       "       [0., 1.],\n",
       "       [0., 1.],\n",
       "       [0., 1.],\n",
       "       [0., 1.],\n",
       "       [1., 0.],\n",
       "       [0., 1.],\n",
       "       [1., 0.],\n",
       "       [0., 1.],\n",
       "       [1., 0.],\n",
       "       [1., 0.],\n",
       "       [0., 1.],\n",
       "       [1., 0.],\n",
       "       [1., 0.],\n",
       "       [0., 1.],\n",
       "       [0., 1.],\n",
       "       [0., 1.],\n",
       "       [0., 1.],\n",
       "       [0., 1.],\n",
       "       [0., 1.],\n",
       "       [0., 1.],\n",
       "       [0., 1.],\n",
       "       [0., 1.],\n",
       "       [1., 0.],\n",
       "       [0., 1.],\n",
       "       [1., 0.],\n",
       "       [0., 1.],\n",
       "       [0., 1.],\n",
       "       [0., 1.],\n",
       "       [0., 1.],\n",
       "       [0., 1.],\n",
       "       [1., 0.],\n",
       "       [0., 1.],\n",
       "       [0., 1.],\n",
       "       [0., 1.],\n",
       "       [0., 1.],\n",
       "       [0., 1.],\n",
       "       [0., 1.],\n",
       "       [1., 0.],\n",
       "       [1., 0.],\n",
       "       [0., 1.],\n",
       "       [0., 1.],\n",
       "       [0., 1.],\n",
       "       [1., 0.]])"
      ]
     },
     "execution_count": 196,
     "metadata": {},
     "output_type": "execute_result"
    }
   ],
   "source": [
    "to_categorical_numpy(y_test)"
   ]
  },
  {
   "cell_type": "code",
   "execution_count": 159,
   "metadata": {},
   "outputs": [],
   "source": [
    "max_epoch = 1000\n",
    "batch_size = 10\n",
    "learning_rate = 0.05\n",
    "logreg = LogisticRegression(X_train_scaled, y_train, optimizer=[\"SGD\"],\n",
    "                            learning_rate= learning_rate, batch_size = batch_size, max_epoch=max_epoch)"
   ]
  },
  {
   "cell_type": "code",
   "execution_count": 160,
   "metadata": {},
   "outputs": [
    {
     "data": {
      "text/plain": [
       "<__main__.LogisticRegression at 0x2848728e438>"
      ]
     },
     "execution_count": 160,
     "metadata": {},
     "output_type": "execute_result"
    }
   ],
   "source": [
    "logreg.fit(X_train_scaled, y_train)"
   ]
  },
  {
   "cell_type": "code",
   "execution_count": 161,
   "metadata": {},
   "outputs": [
    {
     "name": "stdout",
     "output_type": "stream",
     "text": [
      "1000\n"
     ]
    }
   ],
   "source": [
    "costlog=logreg.costs\n",
    "print(len(costlog))"
   ]
  },
  {
   "cell_type": "code",
   "execution_count": 162,
   "metadata": {},
   "outputs": [
    {
     "data": {
      "text/plain": [
       "1000"
      ]
     },
     "execution_count": 162,
     "metadata": {},
     "output_type": "execute_result"
    }
   ],
   "source": [
    "max_epoch-np.sum(np.isnan(costlog))"
   ]
  },
  {
   "cell_type": "code",
   "execution_count": 163,
   "metadata": {},
   "outputs": [
    {
     "data": {
      "image/png": "[encoded data removed]",
      "text/plain": [
       "<Figure size 432x288 with 1 Axes>"
      ]
     },
     "metadata": {
      "needs_background": "light"
     },
     "output_type": "display_data"
    }
   ],
   "source": [
    "import matplotlib.pyplot as plt\n",
    "plt.plot(np.arange(max_epoch),costlog)\n",
    "plt.title(\"Cost function\")\n",
    "plt.xlabel(\"\")\n",
    "plt.ylabel(\"\")\n",
    "plt.show()"
   ]
  },
  {
   "cell_type": "code",
   "execution_count": 171,
   "metadata": {},
   "outputs": [],
   "source": [
    "y_tilde = logreg.predict(X_train_scaled)\n",
    "y_pred = logreg.predict(X_test_scaled)"
   ]
  },
  {
   "cell_type": "code",
   "execution_count": 169,
   "metadata": {},
   "outputs": [],
   "source": [
    "def accuracy(y,y_pred):\n",
    "    acc = np.sum(y==np.round(y_pred))/len(y)\n",
    "    return acc"
   ]
  },
  {
   "cell_type": "code",
   "execution_count": 170,
   "metadata": {},
   "outputs": [
    {
     "data": {
      "text/plain": [
       "0.9370629370629371"
      ]
     },
     "execution_count": 170,
     "metadata": {},
     "output_type": "execute_result"
    }
   ],
   "source": [
    "accuracy(y_test, y_pred)"
   ]
  },
  {
   "cell_type": "code",
   "execution_count": 174,
   "metadata": {},
   "outputs": [
    {
     "data": {
      "text/plain": [
       "0.9906103286384976"
      ]
     },
     "execution_count": 174,
     "metadata": {},
     "output_type": "execute_result"
    }
   ],
   "source": [
    "accuracy(y_train, y_tilde)"
   ]
  },
  {
   "cell_type": "code",
   "execution_count": 194,
   "metadata": {},
   "outputs": [
    {
     "data": {
      "text/plain": [
       "array([0, 1, 1, 1, 1, 1, 1, 1, 1, 1, 1, 1, 1, 1, 1, 0, 1, 0, 0, 0, 0, 0,\n",
       "       1, 1, 0, 1, 1, 0, 1, 0, 1, 0, 1, 0, 1, 0, 1, 0, 1, 0, 0, 1, 0, 1,\n",
       "       1, 0, 1, 1, 1, 0, 0, 0, 0, 1, 1, 1, 1, 1, 1, 0, 0, 0, 1, 1, 0, 1,\n",
       "       0, 0, 0, 1, 1, 0, 1, 0, 0, 1, 1, 1, 1, 1, 0, 0, 0, 1, 0, 1, 1, 1,\n",
       "       0, 0, 1, 0, 1, 0, 1, 1, 0, 1, 1, 1, 1, 1, 1, 1, 0, 1, 0, 1, 0, 0,\n",
       "       1, 0, 0, 1, 1, 1, 1, 1, 1, 1, 1, 1, 0, 1, 0, 1, 1, 1, 1, 1, 0, 1,\n",
       "       1, 1, 1, 1, 1, 0, 0, 1, 1, 1, 0])"
      ]
     },
     "execution_count": 194,
     "metadata": {},
     "output_type": "execute_result"
    }
   ],
   "source": [
    "y_test"
   ]
  },
  {
   "cell_type": "markdown",
   "metadata": {},
   "source": [
    "# The maximum likelihood for the data set $D$ given the parameter $\\hat{\\beta}$\n",
    "$P(D|\\hat{\\beta}) = \\prod_{i=1}^n \\left[p(y_i=1|x_i,\\hat{\\beta})\\right]^{y_i}\\left[1-p(y_i=1|x_i,\\hat{\\beta}))\\right]^{1-y_i}$"
   ]
  },
  {
   "cell_type": "markdown",
   "metadata": {},
   "source": [
    "# The cost function for logistic regression is given as the negative log of the MLE\n",
    "# $\\mathcal{C}(\\hat{\\beta}) = \\sum_{i=1}^n \\left( y_i\\log{p(y_i=1|x_i,\\hat{\\beta})} + (1-y_i)\\log\\left[1-p(y_i=1|x_i,\\hat{\\beta}))\\right]\\right)$\n",
    "# And its derivative (in vector notation):\n",
    "# $\\frac{\\partial \\mathcal{C}(\\hat{\\beta})}{\\partial \\hat{\\beta}} = -\\hat{X}^T\\left(\\hat{y}-\\hat{p}\\right) $\n"
   ]
  },
  {
   "cell_type": "code",
   "execution_count": null,
   "metadata": {},
   "outputs": [],
   "source": []
  },
  {
   "cell_type": "code",
   "execution_count": null,
   "metadata": {},
   "outputs": [],
   "source": []
  },
  {
   "cell_type": "markdown",
   "metadata": {},
   "source": [
    "# Loading the MNIST data base\n",
    "## There are 1797 images of size 8x8 pixels in \"grayscale\""
   ]
  },
  {
   "cell_type": "code",
   "execution_count": 175,
   "metadata": {},
   "outputs": [
    {
     "name": "stdout",
     "output_type": "stream",
     "text": [
      "inputs = (n_inputs, pixel_width, pixel_height) = (1797, 8, 8)\n",
      "labels = (n_inputs) = (1797,)\n",
      "X = (n_inputs, n_features) = (1797, 64)\n"
     ]
    },
    {
     "data": {
      "text/plain": [
       "'\\nfor i, image in enumerate(digits.images[random_indices]):\\n    plt.subplot(1, 5, i+1)\\n    plt.axis(\\'off\\')\\n    plt.imshow(image, cmap=plt.cm.gray_r, interpolation=\\'nearest\\')\\n    plt.title(\"Label: %d\" % digits.target[random_indices[i]])\\nplt.show()\\n'"
      ]
     },
     "execution_count": 175,
     "metadata": {},
     "output_type": "execute_result"
    }
   ],
   "source": [
    "from sklearn import datasets\n",
    "\n",
    "digits = datasets.load_digits()\n",
    "\n",
    "# define inputs and labels\n",
    "inputs = digits.images\n",
    "labels = digits.target\n",
    "\n",
    "print(\"inputs = (n_inputs, pixel_width, pixel_height) = \" + str(inputs.shape))\n",
    "print(\"labels = (n_inputs) = \" + str(labels.shape))\n",
    "\n",
    "\n",
    "# flatten the image\n",
    "# the value -1 means dimension is inferred from the remaining dimensions: 8x8 = 64\n",
    "n_inputs = len(inputs)\n",
    "inputs = inputs.reshape(n_inputs, -1)\n",
    "print(\"X = (n_inputs, n_features) = \" + str(inputs.shape))\n",
    "\n",
    "\n",
    "# choose some random images to display\n",
    "indices = np.arange(n_inputs)\n",
    "random_indices = np.random.choice(indices, size=5)\n",
    "\n",
    "\"\"\"\n",
    "for i, image in enumerate(digits.images[random_indices]):\n",
    "    plt.subplot(1, 5, i+1)\n",
    "    plt.axis('off')\n",
    "    plt.imshow(image, cmap=plt.cm.gray_r, interpolation='nearest')\n",
    "    plt.title(\"Label: %d\" % digits.target[random_indices[i]])\n",
    "plt.show()\n",
    "\"\"\""
   ]
  },
  {
   "cell_type": "code",
   "execution_count": 176,
   "metadata": {},
   "outputs": [],
   "source": [
    "X_train, X_test, Y_train, Y_tes = train_test_split(inputs, labels, test_size = 0.2)"
   ]
  },
  {
   "cell_type": "code",
   "execution_count": 177,
   "metadata": {},
   "outputs": [
    {
     "name": "stdout",
     "output_type": "stream",
     "text": [
      "Number of training images: 1437\n",
      "Number of test images: 360\n"
     ]
    }
   ],
   "source": [
    "print(\"Number of training images: \" + str(len(X_train)))\n",
    "print(\"Number of test images: \" + str(len(X_test)))"
   ]
  },
  {
   "cell_type": "code",
   "execution_count": null,
   "metadata": {},
   "outputs": [],
   "source": []
  },
  {
   "cell_type": "code",
   "execution_count": 178,
   "metadata": {},
   "outputs": [],
   "source": []
  },
  {
   "cell_type": "code",
   "execution_count": 179,
   "metadata": {},
   "outputs": [],
   "source": [
    "# One-hot in numpy (from lecture notes week 41)\n",
    "def to_categorical_numpy(integer_vector):\n",
    "    n_inputs = len(integer_vector)\n",
    "    n_categories = np.max(integer_vector) + 1\n",
    "    onehot_vector = np.zeros((n_inputs, n_categories))\n",
    "    onehot_vector[range(n_inputs), integer_vector] = 1\n",
    "    \n",
    "    return onehot_vector\n"
   ]
  },
  {
   "cell_type": "code",
   "execution_count": 182,
   "metadata": {},
   "outputs": [
    {
     "data": {
      "text/plain": [
       "array([0, 1, 2, ..., 8, 9, 8])"
      ]
     },
     "execution_count": 182,
     "metadata": {},
     "output_type": "execute_result"
    }
   ],
   "source": [
    "labels"
   ]
  },
  {
   "cell_type": "code",
   "execution_count": 192,
   "metadata": {},
   "outputs": [
    {
     "data": {
      "text/plain": [
       "array([[1., 0., 0., ..., 0., 0., 0.],\n",
       "       [0., 1., 0., ..., 0., 0., 0.],\n",
       "       [0., 0., 1., ..., 0., 0., 0.],\n",
       "       ...,\n",
       "       [0., 0., 0., ..., 0., 1., 0.],\n",
       "       [0., 0., 0., ..., 0., 0., 1.],\n",
       "       [0., 0., 0., ..., 0., 1., 0.]])"
      ]
     },
     "execution_count": 192,
     "metadata": {},
     "output_type": "execute_result"
    }
   ],
   "source": [
    "to_categorical_numpy(labels)"
   ]
  },
  {
   "cell_type": "code",
   "execution_count": null,
   "metadata": {},
   "outputs": [],
   "source": []
  }
 ],
 "metadata": {
  "kernelspec": {
   "display_name": "Python 3",
   "language": "python",
   "name": "python3"
  },
  "language_info": {
   "codemirror_mode": {
    "name": "ipython",
    "version": 3
   },
   "file_extension": ".py",
   "mimetype": "text/x-python",
   "name": "python",
   "nbconvert_exporter": "python",
   "pygments_lexer": "ipython3",
   "version": "3.8.5"
  }
 },
 "nbformat": 4,
 "nbformat_minor": 4
}
