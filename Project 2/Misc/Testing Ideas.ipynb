{
 "cells": [
  {
   "cell_type": "code",
   "execution_count": 3,
   "metadata": {},
   "outputs": [],
   "source": [
    "import numpy as np\n",
    "import matplotlib.pyplot as plt"
   ]
  },
  {
   "cell_type": "code",
   "execution_count": null,
   "metadata": {},
   "outputs": [],
   "source": []
  },
  {
   "cell_type": "code",
   "execution_count": null,
   "metadata": {},
   "outputs": [],
   "source": []
  },
  {
   "cell_type": "code",
   "execution_count": null,
   "metadata": {},
   "outputs": [],
   "source": []
  },
  {
   "cell_type": "markdown",
   "metadata": {},
   "source": [
    "# Loading the MNISt data base\n",
    "## There are 1797 images of size 8x8 pixels in \"grayscale\""
   ]
  },
  {
   "cell_type": "code",
   "execution_count": 4,
   "metadata": {},
   "outputs": [
    {
     "name": "stdout",
     "output_type": "stream",
     "text": [
      "inputs = (n_inputs, pixel_width, pixel_height) = (1797, 8, 8)\n",
      "labels = (n_inputs) = (1797,)\n",
      "X = (n_inputs, n_features) = (1797, 64)\n"
     ]
    },
    {
     "data": {
      "image/png": "[encoded data removed]",
      "text/plain": [
       "<Figure size 432x288 with 5 Axes>"
      ]
     },
     "metadata": {
      "needs_background": "light"
     },
     "output_type": "display_data"
    }
   ],
   "source": [
    "from sklearn import datasets\n",
    "\n",
    "digits = datasets.load_digits()\n",
    "\n",
    "# define inputs and labels\n",
    "inputs = digits.images\n",
    "labels = digits.target\n",
    "\n",
    "print(\"inputs = (n_inputs, pixel_width, pixel_height) = \" + str(inputs.shape))\n",
    "print(\"labels = (n_inputs) = \" + str(labels.shape))\n",
    "\n",
    "\n",
    "# flatten the image\n",
    "# the value -1 means dimension is inferred from the remaining dimensions: 8x8 = 64\n",
    "n_inputs = len(inputs)\n",
    "inputs = inputs.reshape(n_inputs, -1)\n",
    "print(\"X = (n_inputs, n_features) = \" + str(inputs.shape))\n",
    "\n",
    "\n",
    "# choose some random images to display\n",
    "indices = np.arange(n_inputs)\n",
    "random_indices = np.random.choice(indices, size=5)\n",
    "\n",
    "\n",
    "for i, image in enumerate(digits.images[random_indices]):\n",
    "    plt.subplot(1, 5, i+1)\n",
    "    plt.axis('off')\n",
    "    plt.imshow(image, cmap=plt.cm.gray_r, interpolation='nearest')\n",
    "    plt.title(\"Label: %d\" % digits.target[random_indices[i]])\n",
    "plt.show()\n"
   ]
  },
  {
   "cell_type": "code",
   "execution_count": 5,
   "metadata": {},
   "outputs": [
    {
     "name": "stdout",
     "output_type": "stream",
     "text": [
      "4\n"
     ]
    },
    {
     "data": {
      "text/plain": [
       "<matplotlib.image.AxesImage at 0x285b80beb38>"
      ]
     },
     "execution_count": 5,
     "metadata": {},
     "output_type": "execute_result"
    },
    {
     "data": {
      "image/png": "[encoded data removed]",
      "text/plain": [
       "<Figure size 432x288 with 1 Axes>"
      ]
     },
     "metadata": {
      "needs_background": "light"
     },
     "output_type": "display_data"
    }
   ],
   "source": [
    "cartesian = digits.images\n",
    "ind = np.random.randint(0,len(cartesian))\n",
    "print(labels[ind])\n",
    "plt.imshow(cartesian[np.random.randint(0,len(cartesian))], cmap=plt.cm.gray_r)"
   ]
  },
  {
   "cell_type": "markdown",
   "metadata": {},
   "source": [
    "## Changing the dimensions of the images to Polar coordinates"
   ]
  },
  {
   "cell_type": "code",
   "execution_count": 6,
   "metadata": {},
   "outputs": [],
   "source": [
    "import abel"
   ]
  },
  {
   "cell_type": "code",
   "execution_count": 10,
   "metadata": {},
   "outputs": [],
   "source": [
    "CartImage = cartesian[3]\n",
    "PolarImage, r_grid, theta_grid = abel.tools.polar.reproject_image_into_polar(CartImage)"
   ]
  },
  {
   "cell_type": "code",
   "execution_count": 11,
   "metadata": {},
   "outputs": [
    {
     "name": "stdout",
     "output_type": "stream",
     "text": [
      "(8, 8) (6, 8) (6, 8) (6, 8)\n"
     ]
    }
   ],
   "source": [
    "print(CartImage.shape, PolarImage.shape, r_grid.shape, theta_grid.shape)"
   ]
  },
  {
   "cell_type": "code",
   "execution_count": 14,
   "metadata": {},
   "outputs": [
    {
     "data": {
      "image/png": "[encoded data removed]",
      "text/plain": [
       "<Figure size 504x252 with 2 Axes>"
      ]
     },
     "metadata": {
      "needs_background": "light"
     },
     "output_type": "display_data"
    }
   ],
   "source": [
    "fig, axs = plt.subplots(1,2, figsize=(7,3.5))\n",
    "axs[0].imshow(CartImage)\n",
    "axs[1].imshow(PolarImage, extent=(np.min(theta_grid), np.max(theta_grid), np.min(r_grid), np.max(r_grid)))\n",
    "\n",
    "axs[0].set_title('Cartesian')\n",
    "axs[0].set_xlabel('x')\n",
    "axs[0].set_ylabel('y')\n",
    "\n",
    "axs[1].set_title('Polar')\n",
    "axs[1].set_xlabel('Theta')\n",
    "axs[1].set_ylabel('r')\n",
    "\n",
    "plt.tight_layout()\n",
    "plt.show()\n"
   ]
  },
  {
   "cell_type": "code",
   "execution_count": 15,
   "metadata": {},
   "outputs": [],
   "source": [
    "PolarData = np.zeros((len(inputs),48))\n",
    "for i in range(len(inputs)):\n",
    "    CartImage = inputs[i].reshape(8,8)\n",
    "    PolarImage, r_grid, theta_grid = abel.tools.polar.reproject_image_into_polar(CartImage)\n",
    "    PolarData[i,:] = PolarImage.reshape(-1)\n"
   ]
  },
  {
   "cell_type": "code",
   "execution_count": 16,
   "metadata": {},
   "outputs": [
    {
     "data": {
      "image/png": "[encoded data removed]",
      "text/plain": [
       "<Figure size 504x252 with 2 Axes>"
      ]
     },
     "metadata": {
      "needs_background": "light"
     },
     "output_type": "display_data"
    }
   ],
   "source": [
    "fig, axs = plt.subplots(1,2, figsize=(7,3.5))\n",
    "axs[0].imshow(inputs[5].reshape(8,8))\n",
    "axs[1].imshow(PolarData[5].reshape(6,8), extent=(np.min(theta_grid), np.max(theta_grid), np.min(r_grid), np.max(r_grid)))\n",
    "\n",
    "axs[0].set_title('Cartesian')\n",
    "axs[0].set_xlabel('x')\n",
    "axs[0].set_ylabel('y')\n",
    "\n",
    "axs[1].set_title('Polar')\n",
    "axs[1].set_xlabel('Theta')\n",
    "axs[1].set_ylabel('r')\n",
    "\n",
    "plt.tight_layout()\n",
    "plt.show()\n"
   ]
  },
  {
   "cell_type": "code",
   "execution_count": 17,
   "metadata": {},
   "outputs": [],
   "source": [
    "# Loading up the neural network and readying the data"
   ]
  },
  {
   "cell_type": "code",
   "execution_count": 18,
   "metadata": {},
   "outputs": [],
   "source": [
    "import NNclassification as NNC\n",
    "import matplotlib.pyplot as plt\n",
    "import numpy as np\n",
    "from sklearn.model_selection import  train_test_split \n",
    "\n",
    "# One-hot in numpy (from lecture notes week 41)\n",
    "def to_categorical_numpy(integer_vector):\n",
    "    n_inputs = len(integer_vector)\n",
    "    n_categories = np.max(integer_vector) + 1\n",
    "    onehot_vector = np.zeros((n_inputs, n_categories))\n",
    "    onehot_vector[range(n_inputs), integer_vector] = 1\n",
    "    \n",
    "    return onehot_vector\n",
    "\n",
    "def accuracy(y,y_pred):\n",
    "    y = np.argmax(y, axis=1) #Returns one-hot encoded vectors back to class integers\n",
    "    acc = np.sum(y==y_pred)/len(y)\n",
    "    return acc\n",
    "\n"
   ]
  },
  {
   "cell_type": "code",
   "execution_count": 19,
   "metadata": {},
   "outputs": [],
   "source": [
    "X = PolarData\n",
    "Y = to_categorical_numpy(labels)\n",
    "n_features = X.shape[1]\n",
    "n_categories = Y.shape[1]\n",
    "\n",
    "X_train, X_test, Y_train, Y_test = train_test_split(X,Y,test_size = 0.2)"
   ]
  },
  {
   "cell_type": "code",
   "execution_count": 20,
   "metadata": {},
   "outputs": [],
   "source": [
    "X_train, X_test = X_train.T, X_test.T\n",
    "Y_train, Y_test = Y_train.T, Y_test.T"
   ]
  },
  {
   "cell_type": "code",
   "execution_count": 21,
   "metadata": {},
   "outputs": [],
   "source": [
    "hidden_layers = [('relu',0),('relu',0.001),'softmax']\n",
    "layer_dims=[n_features,20,10,n_categories]\n",
    "\n",
    "NNclassifier = NNC.NN(layer_dims=layer_dims, hidden_layers=hidden_layers, cost_function='CrossEntropy', optimization_method = \"SGDM\", \n",
    "                      batch_size = 32, max_epoch=1000, verbose=1, learning_rate=0.05)"
   ]
  },
  {
   "cell_type": "code",
   "execution_count": 22,
   "metadata": {
    "scrolled": true
   },
   "outputs": [
    {
     "name": "stdout",
     "output_type": "stream",
     "text": [
      "Initilizing Weights...\n",
      "Starting Training...\n",
      "Cost function after epoch 100: 0.17256434598060316\n",
      "Cost function after epoch 200: 0.13619390723055244\n",
      "Cost function after epoch 300: 0.05958780168185118\n",
      "Cost function after epoch 400: 0.039493676660730545\n",
      "Cost function after epoch 500: 0.6851623864565461\n",
      "Cost function after epoch 600: 0.030889006763512864\n",
      "Cost function after epoch 700: 0.22040439548042368\n",
      "Cost function after epoch 800: 0.02519000187769515\n",
      "Cost function after epoch 900: 0.06928294326986215\n",
      "Cost function after epoch 1000: 0.02668337411512791\n"
     ]
    },
    {
     "data": {
      "text/plain": [
       "<NNclassification.NN at 0x285b686ea20>"
      ]
     },
     "execution_count": 22,
     "metadata": {},
     "output_type": "execute_result"
    }
   ],
   "source": [
    "NNclassifier.fit(X_train, Y_train)"
   ]
  },
  {
   "cell_type": "code",
   "execution_count": 23,
   "metadata": {},
   "outputs": [
    {
     "data": {
      "text/plain": [
       "[<matplotlib.lines.Line2D at 0x285b9c7ffd0>]"
      ]
     },
     "execution_count": 23,
     "metadata": {},
     "output_type": "execute_result"
    },
    {
     "data": {
      "image/png": "[encoded data removed]",
      "text/plain": [
       "<Figure size 432x288 with 1 Axes>"
      ]
     },
     "metadata": {
      "needs_background": "light"
     },
     "output_type": "display_data"
    }
   ],
   "source": [
    "plt.plot(NNclassifier.costs)"
   ]
  },
  {
   "cell_type": "code",
   "execution_count": 24,
   "metadata": {},
   "outputs": [],
   "source": [
    "Y_tilde = NNclassifier.predict(X_train)\n",
    "Y_pred = NNclassifier.predict(X_test)"
   ]
  },
  {
   "cell_type": "code",
   "execution_count": 25,
   "metadata": {},
   "outputs": [
    {
     "data": {
      "text/plain": [
       "0.9909533750869868"
      ]
     },
     "execution_count": 25,
     "metadata": {},
     "output_type": "execute_result"
    }
   ],
   "source": [
    "accuracy(Y_train.T, Y_tilde)"
   ]
  },
  {
   "cell_type": "code",
   "execution_count": 26,
   "metadata": {},
   "outputs": [
    {
     "data": {
      "text/plain": [
       "0.9222222222222223"
      ]
     },
     "execution_count": 26,
     "metadata": {},
     "output_type": "execute_result"
    }
   ],
   "source": [
    "accuracy(Y_test.T, Y_pred)"
   ]
  },
  {
   "cell_type": "code",
   "execution_count": 27,
   "metadata": {},
   "outputs": [],
   "source": [
    "# It did not give any better results than just having the cartesian coordinates. There could be an issue with the \n",
    "# dimenstionality reduction from (8,8) to (6,8), i.e removing 25% of the datapoints. The computation speed difference \n",
    "# is negligable as the network trains very quickly with promising results. The shift towards polar coordinates could \n",
    "# however be more interesting in other datasets.\n",
    "# The hypothesis of using polar coordinates was thatthe \"circular\" motions of handwriting could yield any help\n",
    "# for the network to train efficiently.  "
   ]
  },
  {
   "cell_type": "code",
   "execution_count": null,
   "metadata": {},
   "outputs": [],
   "source": []
  },
  {
   "cell_type": "code",
   "execution_count": 35,
   "metadata": {},
   "outputs": [],
   "source": [
    "# Make 3d Plot\n",
    "#%matplotlib qt\n",
    "from mpl_toolkits.mplot3d import Axes3D\n",
    "fig = plt.figure()\n",
    "ax = fig.gca(projection ='3d')\n",
    "\n",
    "surf = ax.plot_surface(r_grid, theta_grid, PolarImage, cmap = plt.cm.jet)\n",
    "ax.set_xlabel('r')\n",
    "ax.set_ylabel('theta')\n",
    "ax.set_zlabel('Z')\n",
    "plt.show()"
   ]
  },
  {
   "cell_type": "code",
   "execution_count": null,
   "metadata": {},
   "outputs": [],
   "source": []
  }
 ],
 "metadata": {
  "kernelspec": {
   "display_name": "Python 3",
   "language": "python",
   "name": "python3"
  },
  "language_info": {
   "codemirror_mode": {
    "name": "ipython",
    "version": 3
   },
   "file_extension": ".py",
   "mimetype": "text/x-python",
   "name": "python",
   "nbconvert_exporter": "python",
   "pygments_lexer": "ipython3",
   "version": "3.7.1"
  }
 },
 "nbformat": 4,
 "nbformat_minor": 4
}
