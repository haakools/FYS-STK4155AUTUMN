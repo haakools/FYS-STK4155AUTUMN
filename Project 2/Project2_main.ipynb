{
 "cells": [
  {
   "cell_type": "code",
   "execution_count": 61,
   "metadata": {},
   "outputs": [],
   "source": [
    "import FunctionsLibrary as fn\n",
    "import matplotlib.pyplot as plt\n",
    "import numpy as np\n",
    "from sklearn.model_selection import  train_test_split \n",
    "from sklearn.datasets import load_breast_cancer\n",
    "from sklearn.linear_model import LogisticRegression\n",
    "from sklearn.model_selection import train_test_split\n",
    "from sklearn.preprocessing import StandardScaler"
   ]
  },
  {
   "cell_type": "markdown",
   "metadata": {},
   "source": [
    "# Neural Network Classification"
   ]
  },
  {
   "cell_type": "markdown",
   "metadata": {},
   "source": [
    "## Wisconsin Breast Cancer Data"
   ]
  },
  {
   "cell_type": "code",
   "execution_count": 62,
   "metadata": {},
   "outputs": [],
   "source": [
    "# Breast Cancer data\n",
    "cancer = load_breast_cancer()\n",
    "X = cancer.data\n",
    "y = cancer.target\n",
    "\n",
    "# One-hot encoded\n",
    "Y = fn.to_categorical_numpy(y)\n",
    "\n",
    "# Splitting\n",
    "X_train, X_test, Y_train, Y_test = train_test_split(X,Y, test_size=0.2)\n",
    "\n",
    "# Scaling\n",
    "scaler= StandardScaler()\n",
    "scaler.fit(X_train)\n",
    "X_train_scaled = scaler.transform(X_train)\n",
    "X_test_scaled = scaler.transform(X_test)"
   ]
  },
  {
   "cell_type": "code",
   "execution_count": 68,
   "metadata": {},
   "outputs": [
    {
     "data": {
      "text/plain": [
       "(30, 114)"
      ]
     },
     "execution_count": 68,
     "metadata": {},
     "output_type": "execute_result"
    }
   ],
   "source": [
    "X_test_scaled.T.shape"
   ]
  },
  {
   "cell_type": "code",
   "execution_count": 63,
   "metadata": {},
   "outputs": [
    {
     "name": "stdout",
     "output_type": "stream",
     "text": [
      "Number of categories: 2\n",
      "Number of features: 30\n"
     ]
    }
   ],
   "source": [
    "n_categories = Y.shape[1]\n",
    "n_features = X.shape[1]\n",
    "print(\"Number of categories:\", n_categories)\n",
    "print(\"Number of features:\", n_features)"
   ]
  },
  {
   "cell_type": "code",
   "execution_count": 79,
   "metadata": {},
   "outputs": [],
   "source": [
    "hidden_layers = [('relu',0),('relu',0.01),'softmax']\n",
    "layer_dims=[n_features,6,4,n_categories]\n",
    "NNclassifier = fn.NN(layer_dims=layer_dims,\n",
    "                     hidden_layers=hidden_layers,\n",
    "                     cost_function=\"CrossEntropy\",\n",
    "                     optimization_method = \"SGDM\",\n",
    "                     batch_size = 32,\n",
    "                     max_epoch=100, \n",
    "                     verbose=1, \n",
    "                     #penalty=\"l2\",\n",
    "                     lamb=0.001,\n",
    "                     learning_rate=0.1)"
   ]
  },
  {
   "cell_type": "code",
   "execution_count": 80,
   "metadata": {},
   "outputs": [
    {
     "name": "stdout",
     "output_type": "stream",
     "text": [
      "Initilizing Weights...\n",
      "Starting Training...\n",
      "Cost function after epoch 10: 0.06666543969088025\n",
      "Cost function after epoch 20: 0.03765502506256842\n",
      "Cost function after epoch 30: 0.02616304273679515\n",
      "Cost function after epoch 40: 0.018691666928010418\n",
      "Cost function after epoch 50: 0.015134427797151136\n",
      "Cost function after epoch 60: 0.01138060464670495\n",
      "Cost function after epoch 70: 0.00852857035369637\n",
      "Cost function after epoch 80: 0.005897916662086419\n",
      "Cost function after epoch 90: 0.004435499581067788\n",
      "Cost function after epoch 100: 0.0034895785049988428\n"
     ]
    },
    {
     "data": {
      "text/plain": [
       "<FunctionsLibrary.NN at 0x1fe36ec2c10>"
      ]
     },
     "execution_count": 80,
     "metadata": {},
     "output_type": "execute_result"
    }
   ],
   "source": [
    "NNclassifier.fit(X_train_scaled.T,Y_train.T)"
   ]
  },
  {
   "cell_type": "code",
   "execution_count": 81,
   "metadata": {},
   "outputs": [
    {
     "data": {
      "text/plain": [
       "Text(0.5, 1.0, 'Loss and accuracy after each epoch')"
      ]
     },
     "execution_count": 81,
     "metadata": {},
     "output_type": "execute_result"
    },
    {
     "data": {
      "image/png": "[encoded data removed]",
      "text/plain": [
       "<Figure size 432x288 with 2 Axes>"
      ]
     },
     "metadata": {
      "needs_background": "light"
     },
     "output_type": "display_data"
    }
   ],
   "source": [
    "fig, ax1 = plt.subplots()\n",
    "\n",
    "color = 'tab:red'\n",
    "ax1.plot(NNclassifier.costs,color=color, label=\"Cost function\")\n",
    "ax1.set_xlabel(\"n epochs\")\n",
    "ax1.set_ylabel(\"Cost\",color=color)\n",
    "ax1.tick_params(axis='y', labelcolor=color)\n",
    "\n",
    "ax2 = ax1.twinx()\n",
    "color = 'tab:blue'\n",
    "ax2.plot(NNclassifier.acc, label=\"accuracy\",color=color)\n",
    "ax2.set_ylabel(\"Accuracy\",color=color)\n",
    "ax2.tick_params(axis='y', labelcolor=color)\n",
    "\n",
    "plt.title(\"Loss and accuracy after each epoch\")\n"
   ]
  },
  {
   "cell_type": "code",
   "execution_count": 82,
   "metadata": {},
   "outputs": [
    {
     "name": "stdout",
     "output_type": "stream",
     "text": [
      "NN Training accuracy: 1.000\n",
      "NN Testing accuracy: 0.947\n"
     ]
    }
   ],
   "source": [
    "Y_tilde = NNclassifier.predict(X_train_scaled.T)\n",
    "Y_pred = NNclassifier.predict(X_test_scaled.T)\n",
    "\n",
    "NN_train_acc = fn.accuracy(Y_train, np.argmax(Y_tilde, axis=0))\n",
    "NN_test_acc = fn.accuracy(Y_test, np.argmax(Y_pred, axis=0))\n",
    "print(\"NN Training accuracy: %.3f\" % NN_train_acc )\n",
    "print(\"NN Testing accuracy: %.3f\" % NN_test_acc )"
   ]
  },
  {
   "cell_type": "markdown",
   "metadata": {},
   "source": [
    "# Loading the MNIST data base\n",
    "## There are 1797 images of size 8x8 pixels in \"grayscale\""
   ]
  },
  {
   "cell_type": "code",
   "execution_count": 114,
   "metadata": {},
   "outputs": [
    {
     "data": {
      "image/png": "[encoded data removed]",
      "text/plain": [
       "<Figure size 432x288 with 5 Axes>"
      ]
     },
     "metadata": {
      "needs_background": "light"
     },
     "output_type": "display_data"
    }
   ],
   "source": [
    "from sklearn import datasets\n",
    "\n",
    "digits = datasets.load_digits()\n",
    "\n",
    "# define inputs and labels\n",
    "inputs = digits.images\n",
    "labels = digits.target\n",
    "\n",
    "n_inputs = len(inputs)\n",
    "inputs = inputs.reshape(n_inputs, -1)\n",
    "\n",
    "# choose some random images to display\n",
    "indices = np.arange(n_inputs)\n",
    "random_indices = np.random.choice(indices, size=5)\n",
    "\n",
    "for i, image in enumerate(digits.images[random_indices]):\n",
    "    plt.subplot(1, 5, i+1)\n",
    "    plt.axis('off')\n",
    "    plt.imshow(image, cmap=plt.cm.gray_r, interpolation='nearest')\n",
    "    plt.title(\"Label: %d\" % digits.target[random_indices[i]])\n",
    "plt.suptitle(\" \\n\\n\\n\\n\\n\\nSample of MNIST dataset\", fontsize=20)\n",
    "plt.tight_layout()\n",
    "plt.show()\n"
   ]
  },
  {
   "cell_type": "code",
   "execution_count": 86,
   "metadata": {},
   "outputs": [],
   "source": [
    "X = inputs\n",
    "Y = fn.to_categorical_numpy(labels)\n",
    "n_features = X.shape[1]\n",
    "n_categories = Y.shape[1]\n",
    "\n",
    "X_train, X_test, Y_train, Y_test = train_test_split(X,Y,test_size = 0.2)\n",
    "\n",
    "# Reshaping to fit into the Neural Network\n",
    "X_train, X_test = X_train.T, X_test.T\n",
    "Y_train, Y_test = Y_train.T, Y_test.T"
   ]
  },
  {
   "cell_type": "markdown",
   "metadata": {},
   "source": [
    "## Setting up the NN for classification"
   ]
  },
  {
   "cell_type": "code",
   "execution_count": 99,
   "metadata": {},
   "outputs": [],
   "source": [
    "hidden_layers = [('relu',0),('relu',0.001),'softmax']\n",
    "layer_dims=[n_features,20,10,n_categories]\n",
    "\n",
    "NNclassifier = fn.NN(layer_dims=layer_dims, \n",
    "                     hidden_layers=hidden_layers, \n",
    "                     cost_function='CrossEntropy',\n",
    "                     optimization_method = \"SGDM\",\n",
    "                     batch_size = 32, \n",
    "                     max_epoch=100, \n",
    "                     penalty=\"l2\",\n",
    "                     lamb=0,\n",
    "                     verbose=1, \n",
    "                     learning_rate=0.05)"
   ]
  },
  {
   "cell_type": "code",
   "execution_count": 100,
   "metadata": {},
   "outputs": [
    {
     "name": "stdout",
     "output_type": "stream",
     "text": [
      "Initilizing Weights...\n",
      "Starting Training...\n",
      "Cost function after epoch 10: 1.4199460785754534\n",
      "Cost function after epoch 20: 0.5665818763811897\n",
      "Cost function after epoch 30: 0.1840189783260567\n",
      "Cost function after epoch 40: 0.15772305478559603\n",
      "Cost function after epoch 50: 0.0844612072518627\n",
      "Cost function after epoch 60: 0.08227384922533129\n",
      "Cost function after epoch 70: 0.04295724303456026\n",
      "Cost function after epoch 80: 0.024416742397266773\n",
      "Cost function after epoch 90: 0.03094199474883636\n",
      "Cost function after epoch 100: 0.024148484466575703\n"
     ]
    },
    {
     "data": {
      "text/plain": [
       "<FunctionsLibrary.NN at 0x1fe37427700>"
      ]
     },
     "execution_count": 100,
     "metadata": {},
     "output_type": "execute_result"
    }
   ],
   "source": [
    "NNclassifier.fit(X_train, Y_train)"
   ]
  },
  {
   "cell_type": "code",
   "execution_count": 101,
   "metadata": {},
   "outputs": [
    {
     "data": {
      "text/plain": [
       "Text(0.5, 1.0, 'Loss and accuracy after each epoch')"
      ]
     },
     "execution_count": 101,
     "metadata": {},
     "output_type": "execute_result"
    },
    {
     "data": {
      "image/png": "[encoded data removed]",
      "text/plain": [
       "<Figure size 432x288 with 2 Axes>"
      ]
     },
     "metadata": {
      "needs_background": "light"
     },
     "output_type": "display_data"
    }
   ],
   "source": [
    "fig, ax1 = plt.subplots()\n",
    "\n",
    "color = 'tab:red'\n",
    "ax1.plot(NNclassifier.costs,color=color, label=\"Cost function\")\n",
    "ax1.set_xlabel(\"n epochs\")\n",
    "ax1.set_ylabel(\"Cost\",color=color)\n",
    "ax1.tick_params(axis='y', labelcolor=color)\n",
    "\n",
    "ax2 = ax1.twinx()\n",
    "color = 'tab:blue'\n",
    "ax2.plot(NNclassifier.acc, label=\"accuracy\",color=color)\n",
    "ax2.set_ylabel(\"Accuracy\",color=color)\n",
    "ax2.tick_params(axis='y', labelcolor=color)\n",
    "\n",
    "plt.title(\"Loss and accuracy after each epoch\")\n"
   ]
  },
  {
   "cell_type": "code",
   "execution_count": 102,
   "metadata": {},
   "outputs": [
    {
     "name": "stdout",
     "output_type": "stream",
     "text": [
      "NN Training accuracy: 0.993\n",
      "NN Testing accuracy: 0.928\n"
     ]
    }
   ],
   "source": [
    "Y_tilde = NNclassifier.predict(X_train)\n",
    "Y_pred = NNclassifier.predict(X_test)\n",
    "\n",
    "NN_train_acc = fn.accuracy(Y_train.T, np.argmax(Y_tilde, axis=0))\n",
    "NN_test_acc = fn.accuracy(Y_test.T, np.argmax(Y_pred, axis=0))\n",
    "print(\"NN Training accuracy: %.3f\" % NN_train_acc )\n",
    "print(\"NN Testing accuracy: %.3f\" % NN_test_acc )"
   ]
  },
  {
   "cell_type": "code",
   "execution_count": 106,
   "metadata": {},
   "outputs": [],
   "source": [
    "# Looping over different lambdas\n",
    "lamb_array = np.logspace(-5,3,40)\n",
    "mean_counter = 20\n",
    "train_acc = np.zeros(lamb_array.shape)\n",
    "test_acc = np.zeros(lamb_array.shape)\n",
    "\n",
    "hidden_layers = [('relu',0),('relu',0.001),'softmax']\n",
    "layer_dims=[n_features,20,10,n_categories]\n",
    "for i in range(len(lamb_array)):\n",
    "    NNclassifier = fn.NN(layer_dims=layer_dims, \n",
    "                         hidden_layers=hidden_layers, \n",
    "                         cost_function='CrossEntropy',\n",
    "                         optimization_method = \"Adam\",\n",
    "                         batch_size = 32, \n",
    "                         max_epoch=300, \n",
    "                         penalty=\"l2\",\n",
    "                         lamb=lamb_array[i],\n",
    "                         verbose=0, \n",
    "                         learning_rate=0.001)\n",
    "    NNclassifier.fit(X_train, Y_train)\n",
    "    Y_tilde = NNclassifier.predict(X_train)\n",
    "    Y_pred = NNclassifier.predict(X_test)\n",
    "    train_acc[i] = fn.accuracy(Y_train.T, np.argmax(Y_tilde, axis=0))\n",
    "    test_acc[i] = fn.accuracy(Y_test.T, np.argmax(Y_pred, axis=0))\n",
    "\n"
   ]
  },
  {
   "cell_type": "code",
   "execution_count": 107,
   "metadata": {},
   "outputs": [
    {
     "data": {
      "text/plain": [
       "<matplotlib.legend.Legend at 0x1fe376372e0>"
      ]
     },
     "execution_count": 107,
     "metadata": {},
     "output_type": "execute_result"
    },
    {
     "data": {
      "image/png": "[encoded data removed]",
      "text/plain": [
       "<Figure size 432x288 with 1 Axes>"
      ]
     },
     "metadata": {
      "needs_background": "light"
     },
     "output_type": "display_data"
    }
   ],
   "source": [
    "plt.plot(lamb_array, train_acc, label=\"Training Accuracy\")\n",
    "plt.plot(lamb_array, test_acc, label=\"Testing Accuracy\")\n",
    "plt.xscale(\"log\")\n",
    "plt.ylabel(\"Accuracy\")\n",
    "plt.xlabel(\"Penalty Term\")\n",
    "plt.ylim(0,1)\n",
    "plt.legend()"
   ]
  },
  {
   "cell_type": "code",
   "execution_count": null,
   "metadata": {},
   "outputs": [],
   "source": []
  },
  {
   "cell_type": "markdown",
   "metadata": {},
   "source": [
    "# Testing more intercatively with showing example image and then feeding it into the Neural Network"
   ]
  },
  {
   "cell_type": "code",
   "execution_count": null,
   "metadata": {},
   "outputs": [],
   "source": [
    "## Selecting a figure\n",
    "indices = np.arange(len(X_test.T))\n",
    "entries = 5\n",
    "random_indices = np.random.choice(indices, size=entries)\n",
    "\n",
    "testing = X_test.T\n",
    "fig = plt.figure()\n",
    "for i, img in enumerate(testing[random_indices]):\n",
    "    plt.subplot(1, entries, i+1)\n",
    "    plt.axis('off')\n",
    "    plt.imshow(img.reshape(8,8), cmap=plt.cm.gray_r, interpolation='nearest')\n",
    "    pred_int = np.argmax(NNclassifier.predict(img.reshape(-1,1)), axis=0)[0]\n",
    "    label_digit = np.argmax(Y_test[:,random_indices[i]], axis=0)\n",
    "    plt.title(\"Label %d \\n Prediction: %i\" % (label_digit,np.int(pred_int)))\n",
    "plt.tight_layout()\n",
    "fig.suptitle(\"\\n\\nSample of Logistic Regression predictions\", fontsize=20)\n",
    "plt.show()"
   ]
  },
  {
   "cell_type": "markdown",
   "metadata": {},
   "source": [
    "# Logistic regression on the MNIST data"
   ]
  },
  {
   "cell_type": "code",
   "execution_count": null,
   "metadata": {},
   "outputs": [],
   "source": [
    "X = inputs\n",
    "Y = fn.to_categorical_numpy(labels)\n",
    "n_features = X.shape[1]\n",
    "n_categories = Y.shape[1]\n",
    "\n",
    "X_train, X_test, Y_train, Y_test = train_test_split(X,Y,test_size = 0.2)"
   ]
  },
  {
   "cell_type": "markdown",
   "metadata": {},
   "source": [
    "## Scaling the data"
   ]
  },
  {
   "cell_type": "code",
   "execution_count": null,
   "metadata": {},
   "outputs": [],
   "source": [
    "from sklearn.preprocessing import StandardScaler\n",
    "scaler = StandardScaler()\n",
    "scaler.fit(X_train)\n",
    "X_train_scaled = scaler.transform(X_train)\n",
    "X_test_scaled = scaler.transform(X_test)"
   ]
  },
  {
   "cell_type": "markdown",
   "metadata": {},
   "source": [
    "## Creating the model and fitting the data into the Multi-Class Logistic Regression Classifier"
   ]
  },
  {
   "cell_type": "code",
   "execution_count": null,
   "metadata": {},
   "outputs": [],
   "source": [
    "max_epoch = 100\n",
    "batch_size = 32\n",
    "learning_rate = 0.001\n",
    "logit_mnist = fn.logisticmulticlass(X, Y, optimizer=[\"SGD\"],\n",
    "                            learning_rate = learning_rate, \n",
    "                            batch_size = batch_size,\n",
    "                            max_epoch=max_epoch)\n",
    "logit_mnist.fit(X_train, Y_train)\n"
   ]
  },
  {
   "cell_type": "code",
   "execution_count": null,
   "metadata": {},
   "outputs": [],
   "source": [
    "Y_tilde = logit_mnist.predict(X_train)\n",
    "Y_pred = logit_mnist.predict(X_test)"
   ]
  },
  {
   "cell_type": "code",
   "execution_count": null,
   "metadata": {},
   "outputs": [],
   "source": [
    "fn.accuracy(Y_train, np.argmax(Y_tilde, axis=1))"
   ]
  },
  {
   "cell_type": "code",
   "execution_count": null,
   "metadata": {},
   "outputs": [],
   "source": [
    "fn.accuracy(Y_test, np.argmax(Y_pred, axis=1))"
   ]
  },
  {
   "cell_type": "code",
   "execution_count": null,
   "metadata": {},
   "outputs": [],
   "source": [
    "X_test.shape"
   ]
  },
  {
   "cell_type": "code",
   "execution_count": null,
   "metadata": {},
   "outputs": [],
   "source": [
    "indices = np.arange(len(X_test.T))\n",
    "entries = 5\n",
    "random_indices = np.random.choice(indices, size=entries)\n",
    "fig = plt.figure()\n",
    "for i, img in enumerate(X_test[random_indices,:]):\n",
    "    plt.subplot(1, entries, i+1)\n",
    "    plt.axis('off')\n",
    "    plt.imshow(img.reshape(8,8), cmap=plt.cm.gray_r, interpolation='nearest')\n",
    "    prediction = logit_mnist.predict(img)\n",
    "    pred_int = np.argmax(prediction, axis=0)\n",
    "    label_digit = np.argmax(Y_test[random_indices[i],:], axis=0)\n",
    "    plt.title(\"Label %d \\n Prediction: %i\" % (label_digit,np.int(pred_int)))\n",
    "plt.tight_layout()\n",
    "fig.suptitle(\"\\n\\nSample of Logistic Regression predictions\", fontsize=20)\n",
    "plt.show()"
   ]
  },
  {
   "cell_type": "markdown",
   "metadata": {},
   "source": [
    "# Using the same class for regression:"
   ]
  },
  {
   "cell_type": "code",
   "execution_count": null,
   "metadata": {},
   "outputs": [],
   "source": [
    "import FunctionsLibrary as fn\n",
    "import numpy as np\n",
    "from sklearn.preprocessing import StandardScaler\n",
    "from sklearn.model_selection import train_test_split\n",
    "from mpl_toolkits.mplot3d import Axes3D\n",
    "import matplotlib.pyplot as plt\n",
    "from matplotlib import cm\n",
    "from matplotlib.ticker import LinearLocator, FormatStrFormatter"
   ]
  },
  {
   "cell_type": "code",
   "execution_count": null,
   "metadata": {},
   "outputs": [],
   "source": [
    "datapoints  = 100\n",
    "noisefactor = 0\n",
    "x, y = np.linspace(0,1,datapoints), np.linspace(0,1,datapoints)\n",
    "x, y = np.meshgrid(x,y) \n",
    "z = fn.FrankeFunction(x,y,noisefactor=noisefactor)"
   ]
  },
  {
   "cell_type": "code",
   "execution_count": null,
   "metadata": {},
   "outputs": [],
   "source": [
    "X = np.array([np.ravel(x), np.ravel(y)])\n",
    "z = z.reshape(1,datapoints**2) \n",
    "\n",
    "n_features = X.shape[0]\n",
    "n_categories = 1"
   ]
  },
  {
   "cell_type": "code",
   "execution_count": null,
   "metadata": {},
   "outputs": [],
   "source": [
    "NNregression = fn.NN(layer_dims=[X.shape[0],10,10,1], \n",
    "                      hidden_layers=[\"sigmoid\",\"sigmoid\",\"linear\"],\n",
    "                      cost_function=\"MSE\", optimization_method = \"Adam\",\n",
    "                      batch_size = 32, max_epoch=500, \n",
    "                      verbose=1, learning_rate=0.05)"
   ]
  },
  {
   "cell_type": "code",
   "execution_count": null,
   "metadata": {},
   "outputs": [],
   "source": [
    "NNregression.fit(X,z)"
   ]
  },
  {
   "cell_type": "code",
   "execution_count": null,
   "metadata": {},
   "outputs": [],
   "source": [
    "plt.plot(NNregression.costs)\n",
    "plt.title(\"Cost function MSE\")\n",
    "plt.ylabel(\"0.5 MSE\")\n",
    "plt.xlabel(\"Epochs\")"
   ]
  },
  {
   "cell_type": "code",
   "execution_count": null,
   "metadata": {},
   "outputs": [],
   "source": [
    "z_pred = NNregression.predict(X)"
   ]
  },
  {
   "cell_type": "code",
   "execution_count": null,
   "metadata": {},
   "outputs": [],
   "source": [
    "fn.frankeplot(z_pred.reshape(datapoints,datapoints), \"NN prediction on the Franke Function\")"
   ]
  },
  {
   "cell_type": "code",
   "execution_count": null,
   "metadata": {},
   "outputs": [],
   "source": []
  },
  {
   "cell_type": "code",
   "execution_count": null,
   "metadata": {},
   "outputs": [],
   "source": []
  },
  {
   "cell_type": "code",
   "execution_count": null,
   "metadata": {},
   "outputs": [],
   "source": []
  }
 ],
 "metadata": {
  "kernelspec": {
   "display_name": "Python 3",
   "language": "python",
   "name": "python3"
  },
  "language_info": {
   "codemirror_mode": {
    "name": "ipython",
    "version": 3
   },
   "file_extension": ".py",
   "mimetype": "text/x-python",
   "name": "python",
   "nbconvert_exporter": "python",
   "pygments_lexer": "ipython3",
   "version": "3.8.5"
  }
 },
 "nbformat": 4,
 "nbformat_minor": 4
}
